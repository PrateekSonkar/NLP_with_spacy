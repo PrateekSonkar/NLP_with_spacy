{
 "cells": [
  {
   "cell_type": "code",
   "execution_count": 5,
   "metadata": {},
   "outputs": [],
   "source": [
    "import spacy\n",
    "nlp = spacy.load(\"en\")\n",
    "import pandas as pd\n",
    "import numpy as np\n",
    "import re\n",
    "import json"
   ]
  },
  {
   "cell_type": "code",
   "execution_count": 41,
   "metadata": {},
   "outputs": [],
   "source": [
    "with open('words_dictionary.json') as f:\n",
    "    dictData = json.load(f)   "
   ]
  },
  {
   "cell_type": "code",
   "execution_count": 6,
   "metadata": {},
   "outputs": [],
   "source": [
    "#import json\n",
    "#import pandas as pd\n",
    "#from pandas.io.json import json_normalize # #package for flattening json in pandas df\n",
    "#load json object\n",
    "#with open('stree_comment.json') as f:\n",
    "#    d = json.load(f)\n",
    "    \n",
    "#lets put the data into a pandas df\n",
    "#clicking on raw_nyc_phil.json under \"Input Files\"\n",
    "#tells us parent node is 'programs'\n",
    "#nycphil = json_normalize(d)\n",
    "#nycphil.head(3)\n",
    "df = pd.read_csv(\"stree_comment.csv\")"
   ]
  },
  {
   "cell_type": "code",
   "execution_count": 7,
   "metadata": {},
   "outputs": [
    {
     "data": {
      "text/html": [
       "<div>\n",
       "<style scoped>\n",
       "    .dataframe tbody tr th:only-of-type {\n",
       "        vertical-align: middle;\n",
       "    }\n",
       "\n",
       "    .dataframe tbody tr th {\n",
       "        vertical-align: top;\n",
       "    }\n",
       "\n",
       "    .dataframe thead th {\n",
       "        text-align: right;\n",
       "    }\n",
       "</style>\n",
       "<table border=\"1\" class=\"dataframe\">\n",
       "  <thead>\n",
       "    <tr style=\"text-align: right;\">\n",
       "      <th></th>\n",
       "      <th>Unnamed: 0</th>\n",
       "      <th>comment</th>\n",
       "      <th>helpfulness</th>\n",
       "      <th>out_of</th>\n",
       "      <th>rated</th>\n",
       "      <th>title</th>\n",
       "      <th>userid</th>\n",
       "    </tr>\n",
       "  </thead>\n",
       "  <tbody>\n",
       "    <tr>\n",
       "      <th>0</th>\n",
       "      <td>0</td>\n",
       "      <td>A very well mixture of comedy and horror. Rema...</td>\n",
       "      <td>45 out of 51 found this helpful</td>\n",
       "      <td>10.0</td>\n",
       "      <td>9.0</td>\n",
       "      <td>Must watch</td>\n",
       "      <td>rameshkumariimt</td>\n",
       "    </tr>\n",
       "    <tr>\n",
       "      <th>1</th>\n",
       "      <td>1</td>\n",
       "      <td>One of the best Indian horror comedy movie i h...</td>\n",
       "      <td>47 out of 54 found this helpful</td>\n",
       "      <td>10.0</td>\n",
       "      <td>9.0</td>\n",
       "      <td>Honest stree review</td>\n",
       "      <td>shardulneeraj</td>\n",
       "    </tr>\n",
       "    <tr>\n",
       "      <th>2</th>\n",
       "      <td>2</td>\n",
       "      <td>BEST HORROR COMEDY FILM AFTER BHOOL BHULAIYAA!...</td>\n",
       "      <td>29 out of 34 found this helpful</td>\n",
       "      <td>10.0</td>\n",
       "      <td>9.0</td>\n",
       "      <td>One of the most original movie of 2018</td>\n",
       "      <td>dpshrs</td>\n",
       "    </tr>\n",
       "    <tr>\n",
       "      <th>3</th>\n",
       "      <td>3</td>\n",
       "      <td>A zany supernatural parable that is both stron...</td>\n",
       "      <td>29 out of 34 found this helpful</td>\n",
       "      <td>10.0</td>\n",
       "      <td>10.0</td>\n",
       "      <td>Terrific In Madcap Film</td>\n",
       "      <td>nsanjay-76795</td>\n",
       "    </tr>\n",
       "    <tr>\n",
       "      <th>4</th>\n",
       "      <td>4</td>\n",
       "      <td>A very good combination of horror+comedy. Beau...</td>\n",
       "      <td>21 out of 25 found this helpful</td>\n",
       "      <td>10.0</td>\n",
       "      <td>10.0</td>\n",
       "      <td>Talent bhar bhar k</td>\n",
       "      <td>sharmaakshat-63166</td>\n",
       "    </tr>\n",
       "  </tbody>\n",
       "</table>\n",
       "</div>"
      ],
      "text/plain": [
       "   Unnamed: 0                                            comment  \\\n",
       "0           0  A very well mixture of comedy and horror. Rema...   \n",
       "1           1  One of the best Indian horror comedy movie i h...   \n",
       "2           2  BEST HORROR COMEDY FILM AFTER BHOOL BHULAIYAA!...   \n",
       "3           3  A zany supernatural parable that is both stron...   \n",
       "4           4  A very good combination of horror+comedy. Beau...   \n",
       "\n",
       "                       helpfulness  out_of  rated  \\\n",
       "0  45 out of 51 found this helpful    10.0    9.0   \n",
       "1  47 out of 54 found this helpful    10.0    9.0   \n",
       "2  29 out of 34 found this helpful    10.0    9.0   \n",
       "3  29 out of 34 found this helpful    10.0   10.0   \n",
       "4  21 out of 25 found this helpful    10.0   10.0   \n",
       "\n",
       "                                    title              userid  \n",
       "0                              Must watch     rameshkumariimt  \n",
       "1                     Honest stree review       shardulneeraj  \n",
       "2  One of the most original movie of 2018              dpshrs  \n",
       "3                 Terrific In Madcap Film       nsanjay-76795  \n",
       "4                      Talent bhar bhar k  sharmaakshat-63166  "
      ]
     },
     "execution_count": 7,
     "metadata": {},
     "output_type": "execute_result"
    }
   ],
   "source": [
    "df.head()"
   ]
  },
  {
   "cell_type": "code",
   "execution_count": 8,
   "metadata": {},
   "outputs": [],
   "source": [
    "#Tokenizing words using Spacy\n",
    "def countWordsBySpacy(sentence):\n",
    "    return len(nlp(str(sentence)))"
   ]
  },
  {
   "cell_type": "code",
   "execution_count": 9,
   "metadata": {},
   "outputs": [
    {
     "data": {
      "text/html": [
       "<div>\n",
       "<style scoped>\n",
       "    .dataframe tbody tr th:only-of-type {\n",
       "        vertical-align: middle;\n",
       "    }\n",
       "\n",
       "    .dataframe tbody tr th {\n",
       "        vertical-align: top;\n",
       "    }\n",
       "\n",
       "    .dataframe thead th {\n",
       "        text-align: right;\n",
       "    }\n",
       "</style>\n",
       "<table border=\"1\" class=\"dataframe\">\n",
       "  <thead>\n",
       "    <tr style=\"text-align: right;\">\n",
       "      <th></th>\n",
       "      <th>comment</th>\n",
       "      <th>word_count_spacy</th>\n",
       "      <th>word_count</th>\n",
       "    </tr>\n",
       "  </thead>\n",
       "  <tbody>\n",
       "    <tr>\n",
       "      <th>0</th>\n",
       "      <td>A very well mixture of comedy and horror. Rema...</td>\n",
       "      <td>33</td>\n",
       "      <td>29</td>\n",
       "    </tr>\n",
       "    <tr>\n",
       "      <th>1</th>\n",
       "      <td>One of the best Indian horror comedy movie i h...</td>\n",
       "      <td>82</td>\n",
       "      <td>75</td>\n",
       "    </tr>\n",
       "    <tr>\n",
       "      <th>2</th>\n",
       "      <td>BEST HORROR COMEDY FILM AFTER BHOOL BHULAIYAA!...</td>\n",
       "      <td>28</td>\n",
       "      <td>22</td>\n",
       "    </tr>\n",
       "    <tr>\n",
       "      <th>3</th>\n",
       "      <td>A zany supernatural parable that is both stron...</td>\n",
       "      <td>132</td>\n",
       "      <td>111</td>\n",
       "    </tr>\n",
       "    <tr>\n",
       "      <th>4</th>\n",
       "      <td>A very good combination of horror+comedy. Beau...</td>\n",
       "      <td>27</td>\n",
       "      <td>25</td>\n",
       "    </tr>\n",
       "    <tr>\n",
       "      <th>5</th>\n",
       "      <td>Complete package of Horror-comedy,superb actin...</td>\n",
       "      <td>39</td>\n",
       "      <td>30</td>\n",
       "    </tr>\n",
       "    <tr>\n",
       "      <th>6</th>\n",
       "      <td>Great works by all performers. Soundtrack too ...</td>\n",
       "      <td>9</td>\n",
       "      <td>8</td>\n",
       "    </tr>\n",
       "    <tr>\n",
       "      <th>7</th>\n",
       "      <td>For me Stree is worth watching as i have reall...</td>\n",
       "      <td>121</td>\n",
       "      <td>111</td>\n",
       "    </tr>\n",
       "    <tr>\n",
       "      <th>8</th>\n",
       "      <td>Can't really tell because both of the genre's ...</td>\n",
       "      <td>37</td>\n",
       "      <td>32</td>\n",
       "    </tr>\n",
       "    <tr>\n",
       "      <th>9</th>\n",
       "      <td>NaN</td>\n",
       "      <td>1</td>\n",
       "      <td>1</td>\n",
       "    </tr>\n",
       "  </tbody>\n",
       "</table>\n",
       "</div>"
      ],
      "text/plain": [
       "                                             comment  word_count_spacy  \\\n",
       "0  A very well mixture of comedy and horror. Rema...                33   \n",
       "1  One of the best Indian horror comedy movie i h...                82   \n",
       "2  BEST HORROR COMEDY FILM AFTER BHOOL BHULAIYAA!...                28   \n",
       "3  A zany supernatural parable that is both stron...               132   \n",
       "4  A very good combination of horror+comedy. Beau...                27   \n",
       "5  Complete package of Horror-comedy,superb actin...                39   \n",
       "6  Great works by all performers. Soundtrack too ...                 9   \n",
       "7  For me Stree is worth watching as i have reall...               121   \n",
       "8  Can't really tell because both of the genre's ...                37   \n",
       "9                                                NaN                 1   \n",
       "\n",
       "   word_count  \n",
       "0          29  \n",
       "1          75  \n",
       "2          22  \n",
       "3         111  \n",
       "4          25  \n",
       "5          30  \n",
       "6           8  \n",
       "7         111  \n",
       "8          32  \n",
       "9           1  "
      ]
     },
     "execution_count": 9,
     "metadata": {},
     "output_type": "execute_result"
    }
   ],
   "source": [
    "#Word Count in comment\n",
    "df['word_count'] = df['comment'].apply(lambda x: len(str(x).split(\" \")));\n",
    "df['word_count_spacy'] = df['comment'].apply(lambda x : countWordsBySpacy(x))\n",
    "df[['comment','word_count_spacy','word_count']].head(10)"
   ]
  },
  {
   "cell_type": "code",
   "execution_count": 10,
   "metadata": {},
   "outputs": [
    {
     "data": {
      "text/html": [
       "<div>\n",
       "<style scoped>\n",
       "    .dataframe tbody tr th:only-of-type {\n",
       "        vertical-align: middle;\n",
       "    }\n",
       "\n",
       "    .dataframe tbody tr th {\n",
       "        vertical-align: top;\n",
       "    }\n",
       "\n",
       "    .dataframe thead th {\n",
       "        text-align: right;\n",
       "    }\n",
       "</style>\n",
       "<table border=\"1\" class=\"dataframe\">\n",
       "  <thead>\n",
       "    <tr style=\"text-align: right;\">\n",
       "      <th></th>\n",
       "      <th>comment</th>\n",
       "      <th>char_count</th>\n",
       "    </tr>\n",
       "  </thead>\n",
       "  <tbody>\n",
       "    <tr>\n",
       "      <th>0</th>\n",
       "      <td>A very well mixture of comedy and horror. Rema...</td>\n",
       "      <td>156.0</td>\n",
       "    </tr>\n",
       "    <tr>\n",
       "      <th>1</th>\n",
       "      <td>One of the best Indian horror comedy movie i h...</td>\n",
       "      <td>381.0</td>\n",
       "    </tr>\n",
       "    <tr>\n",
       "      <th>2</th>\n",
       "      <td>BEST HORROR COMEDY FILM AFTER BHOOL BHULAIYAA!...</td>\n",
       "      <td>128.0</td>\n",
       "    </tr>\n",
       "    <tr>\n",
       "      <th>3</th>\n",
       "      <td>A zany supernatural parable that is both stron...</td>\n",
       "      <td>674.0</td>\n",
       "    </tr>\n",
       "    <tr>\n",
       "      <th>4</th>\n",
       "      <td>A very good combination of horror+comedy. Beau...</td>\n",
       "      <td>157.0</td>\n",
       "    </tr>\n",
       "    <tr>\n",
       "      <th>5</th>\n",
       "      <td>Complete package of Horror-comedy,superb actin...</td>\n",
       "      <td>210.0</td>\n",
       "    </tr>\n",
       "    <tr>\n",
       "      <th>6</th>\n",
       "      <td>Great works by all performers. Soundtrack too ...</td>\n",
       "      <td>50.0</td>\n",
       "    </tr>\n",
       "    <tr>\n",
       "      <th>7</th>\n",
       "      <td>For me Stree is worth watching as i have reall...</td>\n",
       "      <td>622.0</td>\n",
       "    </tr>\n",
       "    <tr>\n",
       "      <th>8</th>\n",
       "      <td>Can't really tell because both of the genre's ...</td>\n",
       "      <td>169.0</td>\n",
       "    </tr>\n",
       "    <tr>\n",
       "      <th>9</th>\n",
       "      <td>NaN</td>\n",
       "      <td>NaN</td>\n",
       "    </tr>\n",
       "  </tbody>\n",
       "</table>\n",
       "</div>"
      ],
      "text/plain": [
       "                                             comment  char_count\n",
       "0  A very well mixture of comedy and horror. Rema...       156.0\n",
       "1  One of the best Indian horror comedy movie i h...       381.0\n",
       "2  BEST HORROR COMEDY FILM AFTER BHOOL BHULAIYAA!...       128.0\n",
       "3  A zany supernatural parable that is both stron...       674.0\n",
       "4  A very good combination of horror+comedy. Beau...       157.0\n",
       "5  Complete package of Horror-comedy,superb actin...       210.0\n",
       "6  Great works by all performers. Soundtrack too ...        50.0\n",
       "7  For me Stree is worth watching as i have reall...       622.0\n",
       "8  Can't really tell because both of the genre's ...       169.0\n",
       "9                                                NaN         NaN"
      ]
     },
     "execution_count": 10,
     "metadata": {},
     "output_type": "execute_result"
    }
   ],
   "source": [
    "#Number of characters\n",
    "df['char_count'] = df['comment'].str.len()\n",
    "df[['comment', 'char_count']].head(10)"
   ]
  },
  {
   "cell_type": "code",
   "execution_count": 11,
   "metadata": {},
   "outputs": [
    {
     "data": {
      "text/html": [
       "<div>\n",
       "<style scoped>\n",
       "    .dataframe tbody tr th:only-of-type {\n",
       "        vertical-align: middle;\n",
       "    }\n",
       "\n",
       "    .dataframe tbody tr th {\n",
       "        vertical-align: top;\n",
       "    }\n",
       "\n",
       "    .dataframe thead th {\n",
       "        text-align: right;\n",
       "    }\n",
       "</style>\n",
       "<table border=\"1\" class=\"dataframe\">\n",
       "  <thead>\n",
       "    <tr style=\"text-align: right;\">\n",
       "      <th></th>\n",
       "      <th>comment</th>\n",
       "      <th>avg_word</th>\n",
       "    </tr>\n",
       "  </thead>\n",
       "  <tbody>\n",
       "    <tr>\n",
       "      <th>0</th>\n",
       "      <td>A very well mixture of comedy and horror. Rema...</td>\n",
       "      <td>4.413793</td>\n",
       "    </tr>\n",
       "    <tr>\n",
       "      <th>1</th>\n",
       "      <td>One of the best Indian horror comedy movie i h...</td>\n",
       "      <td>4.093333</td>\n",
       "    </tr>\n",
       "    <tr>\n",
       "      <th>2</th>\n",
       "      <td>BEST HORROR COMEDY FILM AFTER BHOOL BHULAIYAA!...</td>\n",
       "      <td>4.863636</td>\n",
       "    </tr>\n",
       "    <tr>\n",
       "      <th>3</th>\n",
       "      <td>A zany supernatural parable that is both stron...</td>\n",
       "      <td>5.000000</td>\n",
       "    </tr>\n",
       "    <tr>\n",
       "      <th>4</th>\n",
       "      <td>A very good combination of horror+comedy. Beau...</td>\n",
       "      <td>5.320000</td>\n",
       "    </tr>\n",
       "    <tr>\n",
       "      <th>5</th>\n",
       "      <td>Complete package of Horror-comedy,superb actin...</td>\n",
       "      <td>6.033333</td>\n",
       "    </tr>\n",
       "    <tr>\n",
       "      <th>6</th>\n",
       "      <td>Great works by all performers. Soundtrack too ...</td>\n",
       "      <td>5.375000</td>\n",
       "    </tr>\n",
       "    <tr>\n",
       "      <th>7</th>\n",
       "      <td>For me Stree is worth watching as i have reall...</td>\n",
       "      <td>4.612613</td>\n",
       "    </tr>\n",
       "    <tr>\n",
       "      <th>8</th>\n",
       "      <td>Can't really tell because both of the genre's ...</td>\n",
       "      <td>4.312500</td>\n",
       "    </tr>\n",
       "    <tr>\n",
       "      <th>9</th>\n",
       "      <td>NaN</td>\n",
       "      <td>0.000000</td>\n",
       "    </tr>\n",
       "  </tbody>\n",
       "</table>\n",
       "</div>"
      ],
      "text/plain": [
       "                                             comment  avg_word\n",
       "0  A very well mixture of comedy and horror. Rema...  4.413793\n",
       "1  One of the best Indian horror comedy movie i h...  4.093333\n",
       "2  BEST HORROR COMEDY FILM AFTER BHOOL BHULAIYAA!...  4.863636\n",
       "3  A zany supernatural parable that is both stron...  5.000000\n",
       "4  A very good combination of horror+comedy. Beau...  5.320000\n",
       "5  Complete package of Horror-comedy,superb actin...  6.033333\n",
       "6  Great works by all performers. Soundtrack too ...  5.375000\n",
       "7  For me Stree is worth watching as i have reall...  4.612613\n",
       "8  Can't really tell because both of the genre's ...  4.312500\n",
       "9                                                NaN  0.000000"
      ]
     },
     "execution_count": 11,
     "metadata": {},
     "output_type": "execute_result"
    }
   ],
   "source": [
    "#Average Word Length\n",
    "def avg_word_stats(sentence):  \n",
    "    #print(len(str(sentence)))\n",
    "    words = str(sentence).split()\n",
    "    if len(words) > 1:\n",
    "        return (sum(len(word) for word in words)/len(words))\n",
    "    else:\n",
    "        return 0\n",
    "df['avg_word'] = df['comment'].apply(lambda x: avg_word_stats(x))\n",
    "df[['comment', 'avg_word']].head(10)"
   ]
  },
  {
   "cell_type": "code",
   "execution_count": 12,
   "metadata": {},
   "outputs": [],
   "source": [
    "#Number of stopwords\n",
    "from spacy.lang.en.stop_words import STOP_WORDS\n",
    "\n",
    "def countStopWords(sentence):\n",
    "    noOdStopWord = 0;\n",
    "    comment = nlp(str(sentence))\n",
    "    for word in comment:\n",
    "        if word.is_stop:\n",
    "            noOdStopWord += 1\n",
    "    return noOdStopWord\n",
    "\n",
    "df['stopword_count'] = df['comment'].apply(lambda x : countStopWords(x))\n",
    "    "
   ]
  },
  {
   "cell_type": "code",
   "execution_count": 13,
   "metadata": {},
   "outputs": [
    {
     "data": {
      "text/html": [
       "<div>\n",
       "<style scoped>\n",
       "    .dataframe tbody tr th:only-of-type {\n",
       "        vertical-align: middle;\n",
       "    }\n",
       "\n",
       "    .dataframe tbody tr th {\n",
       "        vertical-align: top;\n",
       "    }\n",
       "\n",
       "    .dataframe thead th {\n",
       "        text-align: right;\n",
       "    }\n",
       "</style>\n",
       "<table border=\"1\" class=\"dataframe\">\n",
       "  <thead>\n",
       "    <tr style=\"text-align: right;\">\n",
       "      <th></th>\n",
       "      <th>comment</th>\n",
       "      <th>word_count</th>\n",
       "      <th>stopword_count</th>\n",
       "    </tr>\n",
       "  </thead>\n",
       "  <tbody>\n",
       "    <tr>\n",
       "      <th>0</th>\n",
       "      <td>A very well mixture of comedy and horror. Rema...</td>\n",
       "      <td>29</td>\n",
       "      <td>14</td>\n",
       "    </tr>\n",
       "    <tr>\n",
       "      <th>1</th>\n",
       "      <td>One of the best Indian horror comedy movie i h...</td>\n",
       "      <td>75</td>\n",
       "      <td>40</td>\n",
       "    </tr>\n",
       "    <tr>\n",
       "      <th>2</th>\n",
       "      <td>BEST HORROR COMEDY FILM AFTER BHOOL BHULAIYAA!...</td>\n",
       "      <td>22</td>\n",
       "      <td>10</td>\n",
       "    </tr>\n",
       "    <tr>\n",
       "      <th>3</th>\n",
       "      <td>A zany supernatural parable that is both stron...</td>\n",
       "      <td>111</td>\n",
       "      <td>49</td>\n",
       "    </tr>\n",
       "    <tr>\n",
       "      <th>4</th>\n",
       "      <td>A very good combination of horror+comedy. Beau...</td>\n",
       "      <td>25</td>\n",
       "      <td>9</td>\n",
       "    </tr>\n",
       "    <tr>\n",
       "      <th>5</th>\n",
       "      <td>Complete package of Horror-comedy,superb actin...</td>\n",
       "      <td>30</td>\n",
       "      <td>12</td>\n",
       "    </tr>\n",
       "    <tr>\n",
       "      <th>6</th>\n",
       "      <td>Great works by all performers. Soundtrack too ...</td>\n",
       "      <td>8</td>\n",
       "      <td>3</td>\n",
       "    </tr>\n",
       "    <tr>\n",
       "      <th>7</th>\n",
       "      <td>For me Stree is worth watching as i have reall...</td>\n",
       "      <td>111</td>\n",
       "      <td>64</td>\n",
       "    </tr>\n",
       "    <tr>\n",
       "      <th>8</th>\n",
       "      <td>Can't really tell because both of the genre's ...</td>\n",
       "      <td>32</td>\n",
       "      <td>18</td>\n",
       "    </tr>\n",
       "    <tr>\n",
       "      <th>9</th>\n",
       "      <td>NaN</td>\n",
       "      <td>1</td>\n",
       "      <td>0</td>\n",
       "    </tr>\n",
       "  </tbody>\n",
       "</table>\n",
       "</div>"
      ],
      "text/plain": [
       "                                             comment  word_count  \\\n",
       "0  A very well mixture of comedy and horror. Rema...          29   \n",
       "1  One of the best Indian horror comedy movie i h...          75   \n",
       "2  BEST HORROR COMEDY FILM AFTER BHOOL BHULAIYAA!...          22   \n",
       "3  A zany supernatural parable that is both stron...         111   \n",
       "4  A very good combination of horror+comedy. Beau...          25   \n",
       "5  Complete package of Horror-comedy,superb actin...          30   \n",
       "6  Great works by all performers. Soundtrack too ...           8   \n",
       "7  For me Stree is worth watching as i have reall...         111   \n",
       "8  Can't really tell because both of the genre's ...          32   \n",
       "9                                                NaN           1   \n",
       "\n",
       "   stopword_count  \n",
       "0              14  \n",
       "1              40  \n",
       "2              10  \n",
       "3              49  \n",
       "4               9  \n",
       "5              12  \n",
       "6               3  \n",
       "7              64  \n",
       "8              18  \n",
       "9               0  "
      ]
     },
     "execution_count": 13,
     "metadata": {},
     "output_type": "execute_result"
    }
   ],
   "source": [
    "df[['comment', 'word_count', 'stopword_count']].head(10)"
   ]
  },
  {
   "cell_type": "code",
   "execution_count": 14,
   "metadata": {},
   "outputs": [
    {
     "data": {
      "text/plain": [
       "2"
      ]
     },
     "execution_count": 14,
     "metadata": {},
     "output_type": "execute_result"
    }
   ],
   "source": [
    "#tes structure\n",
    "regex  = re.compile(r\"[!\\\"#$%&'()*+,-./:;<=>?@[\\]^_`{|}~]\")\n",
    "match = regex.findall(\"nature 09 i9s 91 #awesome #india\")\n",
    "len(match)"
   ]
  },
  {
   "cell_type": "code",
   "execution_count": 15,
   "metadata": {},
   "outputs": [],
   "source": [
    "def countSpecialChar(sentence):\n",
    "    regex  = re.compile(r\"[!\\\"#$%&'()*+,-./:;<=>?@[\\]^_`{|}~]\")\n",
    "    return len(regex.findall(str(sentence)))"
   ]
  },
  {
   "cell_type": "code",
   "execution_count": 16,
   "metadata": {},
   "outputs": [],
   "source": [
    "df['specialchar_count'] = df['comment'].apply(lambda x : countSpecialChar(x))"
   ]
  },
  {
   "cell_type": "code",
   "execution_count": 17,
   "metadata": {},
   "outputs": [
    {
     "data": {
      "text/html": [
       "<div>\n",
       "<style scoped>\n",
       "    .dataframe tbody tr th:only-of-type {\n",
       "        vertical-align: middle;\n",
       "    }\n",
       "\n",
       "    .dataframe tbody tr th {\n",
       "        vertical-align: top;\n",
       "    }\n",
       "\n",
       "    .dataframe thead th {\n",
       "        text-align: right;\n",
       "    }\n",
       "</style>\n",
       "<table border=\"1\" class=\"dataframe\">\n",
       "  <thead>\n",
       "    <tr style=\"text-align: right;\">\n",
       "      <th></th>\n",
       "      <th>comment</th>\n",
       "      <th>word_count</th>\n",
       "      <th>stopword_count</th>\n",
       "      <th>specialchar_count</th>\n",
       "    </tr>\n",
       "  </thead>\n",
       "  <tbody>\n",
       "    <tr>\n",
       "      <th>0</th>\n",
       "      <td>A very well mixture of comedy and horror. Rema...</td>\n",
       "      <td>29</td>\n",
       "      <td>14</td>\n",
       "      <td>4</td>\n",
       "    </tr>\n",
       "    <tr>\n",
       "      <th>1</th>\n",
       "      <td>One of the best Indian horror comedy movie i h...</td>\n",
       "      <td>75</td>\n",
       "      <td>40</td>\n",
       "      <td>13</td>\n",
       "    </tr>\n",
       "    <tr>\n",
       "      <th>2</th>\n",
       "      <td>BEST HORROR COMEDY FILM AFTER BHOOL BHULAIYAA!...</td>\n",
       "      <td>22</td>\n",
       "      <td>10</td>\n",
       "      <td>8</td>\n",
       "    </tr>\n",
       "    <tr>\n",
       "      <th>3</th>\n",
       "      <td>A zany supernatural parable that is both stron...</td>\n",
       "      <td>111</td>\n",
       "      <td>49</td>\n",
       "      <td>18</td>\n",
       "    </tr>\n",
       "    <tr>\n",
       "      <th>4</th>\n",
       "      <td>A very good combination of horror+comedy. Beau...</td>\n",
       "      <td>25</td>\n",
       "      <td>9</td>\n",
       "      <td>3</td>\n",
       "    </tr>\n",
       "    <tr>\n",
       "      <th>5</th>\n",
       "      <td>Complete package of Horror-comedy,superb actin...</td>\n",
       "      <td>30</td>\n",
       "      <td>12</td>\n",
       "      <td>6</td>\n",
       "    </tr>\n",
       "    <tr>\n",
       "      <th>6</th>\n",
       "      <td>Great works by all performers. Soundtrack too ...</td>\n",
       "      <td>8</td>\n",
       "      <td>3</td>\n",
       "      <td>1</td>\n",
       "    </tr>\n",
       "    <tr>\n",
       "      <th>7</th>\n",
       "      <td>For me Stree is worth watching as i have reall...</td>\n",
       "      <td>111</td>\n",
       "      <td>64</td>\n",
       "      <td>6</td>\n",
       "    </tr>\n",
       "    <tr>\n",
       "      <th>8</th>\n",
       "      <td>Can't really tell because both of the genre's ...</td>\n",
       "      <td>32</td>\n",
       "      <td>18</td>\n",
       "      <td>5</td>\n",
       "    </tr>\n",
       "    <tr>\n",
       "      <th>9</th>\n",
       "      <td>NaN</td>\n",
       "      <td>1</td>\n",
       "      <td>0</td>\n",
       "      <td>0</td>\n",
       "    </tr>\n",
       "  </tbody>\n",
       "</table>\n",
       "</div>"
      ],
      "text/plain": [
       "                                             comment  word_count  \\\n",
       "0  A very well mixture of comedy and horror. Rema...          29   \n",
       "1  One of the best Indian horror comedy movie i h...          75   \n",
       "2  BEST HORROR COMEDY FILM AFTER BHOOL BHULAIYAA!...          22   \n",
       "3  A zany supernatural parable that is both stron...         111   \n",
       "4  A very good combination of horror+comedy. Beau...          25   \n",
       "5  Complete package of Horror-comedy,superb actin...          30   \n",
       "6  Great works by all performers. Soundtrack too ...           8   \n",
       "7  For me Stree is worth watching as i have reall...         111   \n",
       "8  Can't really tell because both of the genre's ...          32   \n",
       "9                                                NaN           1   \n",
       "\n",
       "   stopword_count  specialchar_count  \n",
       "0              14                  4  \n",
       "1              40                 13  \n",
       "2              10                  8  \n",
       "3              49                 18  \n",
       "4               9                  3  \n",
       "5              12                  6  \n",
       "6               3                  1  \n",
       "7              64                  6  \n",
       "8              18                  5  \n",
       "9               0                  0  "
      ]
     },
     "execution_count": 17,
     "metadata": {},
     "output_type": "execute_result"
    }
   ],
   "source": [
    "df[['comment', 'word_count', 'stopword_count','specialchar_count']].head(10)"
   ]
  },
  {
   "cell_type": "code",
   "execution_count": 18,
   "metadata": {},
   "outputs": [],
   "source": [
    "#Number of numerics\n",
    "def countNumericAllValue(sentence):\n",
    "    regex  = re.compile(r\"[0-9]\")\n",
    "    return len(regex.findall(str(sentence)))"
   ]
  },
  {
   "cell_type": "code",
   "execution_count": 19,
   "metadata": {},
   "outputs": [],
   "source": [
    "df['allnumber_count'] = df['comment'].apply(lambda x : countNumericAllValue(x))"
   ]
  },
  {
   "cell_type": "code",
   "execution_count": 20,
   "metadata": {},
   "outputs": [
    {
     "data": {
      "text/html": [
       "<div>\n",
       "<style scoped>\n",
       "    .dataframe tbody tr th:only-of-type {\n",
       "        vertical-align: middle;\n",
       "    }\n",
       "\n",
       "    .dataframe tbody tr th {\n",
       "        vertical-align: top;\n",
       "    }\n",
       "\n",
       "    .dataframe thead th {\n",
       "        text-align: right;\n",
       "    }\n",
       "</style>\n",
       "<table border=\"1\" class=\"dataframe\">\n",
       "  <thead>\n",
       "    <tr style=\"text-align: right;\">\n",
       "      <th></th>\n",
       "      <th>comment</th>\n",
       "      <th>stopword_count</th>\n",
       "      <th>specialchar_count</th>\n",
       "      <th>allnumber_count</th>\n",
       "    </tr>\n",
       "  </thead>\n",
       "  <tbody>\n",
       "    <tr>\n",
       "      <th>0</th>\n",
       "      <td>A very well mixture of comedy and horror. Rema...</td>\n",
       "      <td>14</td>\n",
       "      <td>4</td>\n",
       "      <td>0</td>\n",
       "    </tr>\n",
       "    <tr>\n",
       "      <th>1</th>\n",
       "      <td>One of the best Indian horror comedy movie i h...</td>\n",
       "      <td>40</td>\n",
       "      <td>13</td>\n",
       "      <td>3</td>\n",
       "    </tr>\n",
       "    <tr>\n",
       "      <th>2</th>\n",
       "      <td>BEST HORROR COMEDY FILM AFTER BHOOL BHULAIYAA!...</td>\n",
       "      <td>10</td>\n",
       "      <td>8</td>\n",
       "      <td>0</td>\n",
       "    </tr>\n",
       "    <tr>\n",
       "      <th>3</th>\n",
       "      <td>A zany supernatural parable that is both stron...</td>\n",
       "      <td>49</td>\n",
       "      <td>18</td>\n",
       "      <td>0</td>\n",
       "    </tr>\n",
       "    <tr>\n",
       "      <th>4</th>\n",
       "      <td>A very good combination of horror+comedy. Beau...</td>\n",
       "      <td>9</td>\n",
       "      <td>3</td>\n",
       "      <td>0</td>\n",
       "    </tr>\n",
       "    <tr>\n",
       "      <th>5</th>\n",
       "      <td>Complete package of Horror-comedy,superb actin...</td>\n",
       "      <td>12</td>\n",
       "      <td>6</td>\n",
       "      <td>0</td>\n",
       "    </tr>\n",
       "    <tr>\n",
       "      <th>6</th>\n",
       "      <td>Great works by all performers. Soundtrack too ...</td>\n",
       "      <td>3</td>\n",
       "      <td>1</td>\n",
       "      <td>0</td>\n",
       "    </tr>\n",
       "    <tr>\n",
       "      <th>7</th>\n",
       "      <td>For me Stree is worth watching as i have reall...</td>\n",
       "      <td>64</td>\n",
       "      <td>6</td>\n",
       "      <td>0</td>\n",
       "    </tr>\n",
       "    <tr>\n",
       "      <th>8</th>\n",
       "      <td>Can't really tell because both of the genre's ...</td>\n",
       "      <td>18</td>\n",
       "      <td>5</td>\n",
       "      <td>0</td>\n",
       "    </tr>\n",
       "    <tr>\n",
       "      <th>9</th>\n",
       "      <td>NaN</td>\n",
       "      <td>0</td>\n",
       "      <td>0</td>\n",
       "      <td>0</td>\n",
       "    </tr>\n",
       "  </tbody>\n",
       "</table>\n",
       "</div>"
      ],
      "text/plain": [
       "                                             comment  stopword_count  \\\n",
       "0  A very well mixture of comedy and horror. Rema...              14   \n",
       "1  One of the best Indian horror comedy movie i h...              40   \n",
       "2  BEST HORROR COMEDY FILM AFTER BHOOL BHULAIYAA!...              10   \n",
       "3  A zany supernatural parable that is both stron...              49   \n",
       "4  A very good combination of horror+comedy. Beau...               9   \n",
       "5  Complete package of Horror-comedy,superb actin...              12   \n",
       "6  Great works by all performers. Soundtrack too ...               3   \n",
       "7  For me Stree is worth watching as i have reall...              64   \n",
       "8  Can't really tell because both of the genre's ...              18   \n",
       "9                                                NaN               0   \n",
       "\n",
       "   specialchar_count  allnumber_count  \n",
       "0                  4                0  \n",
       "1                 13                3  \n",
       "2                  8                0  \n",
       "3                 18                0  \n",
       "4                  3                0  \n",
       "5                  6                0  \n",
       "6                  1                0  \n",
       "7                  6                0  \n",
       "8                  5                0  \n",
       "9                  0                0  "
      ]
     },
     "execution_count": 20,
     "metadata": {},
     "output_type": "execute_result"
    }
   ],
   "source": [
    "df[['comment', 'stopword_count','specialchar_count', 'allnumber_count']].head(10)"
   ]
  },
  {
   "cell_type": "code",
   "execution_count": 21,
   "metadata": {},
   "outputs": [],
   "source": [
    " #Number of Uppercase words  \n",
    "def countUpperCase(sentence):\n",
    "    regex  = re.compile(r\"[A-Z]\")\n",
    "    return len(regex.findall(str(sentence)))\n",
    "df['uppercase_count'] = df['comment'].apply(lambda x : countUpperCase(x))"
   ]
  },
  {
   "cell_type": "code",
   "execution_count": 22,
   "metadata": {},
   "outputs": [
    {
     "data": {
      "text/html": [
       "<div>\n",
       "<style scoped>\n",
       "    .dataframe tbody tr th:only-of-type {\n",
       "        vertical-align: middle;\n",
       "    }\n",
       "\n",
       "    .dataframe tbody tr th {\n",
       "        vertical-align: top;\n",
       "    }\n",
       "\n",
       "    .dataframe thead th {\n",
       "        text-align: right;\n",
       "    }\n",
       "</style>\n",
       "<table border=\"1\" class=\"dataframe\">\n",
       "  <thead>\n",
       "    <tr style=\"text-align: right;\">\n",
       "      <th></th>\n",
       "      <th>comment</th>\n",
       "      <th>uppercase_count</th>\n",
       "      <th>specialchar_count</th>\n",
       "      <th>allnumber_count</th>\n",
       "    </tr>\n",
       "  </thead>\n",
       "  <tbody>\n",
       "    <tr>\n",
       "      <th>0</th>\n",
       "      <td>A very well mixture of comedy and horror. Rema...</td>\n",
       "      <td>4</td>\n",
       "      <td>4</td>\n",
       "      <td>0</td>\n",
       "    </tr>\n",
       "    <tr>\n",
       "      <th>1</th>\n",
       "      <td>One of the best Indian horror comedy movie i h...</td>\n",
       "      <td>4</td>\n",
       "      <td>13</td>\n",
       "      <td>3</td>\n",
       "    </tr>\n",
       "    <tr>\n",
       "      <th>2</th>\n",
       "      <td>BEST HORROR COMEDY FILM AFTER BHOOL BHULAIYAA!...</td>\n",
       "      <td>40</td>\n",
       "      <td>8</td>\n",
       "      <td>0</td>\n",
       "    </tr>\n",
       "    <tr>\n",
       "      <th>3</th>\n",
       "      <td>A zany supernatural parable that is both stron...</td>\n",
       "      <td>6</td>\n",
       "      <td>18</td>\n",
       "      <td>0</td>\n",
       "    </tr>\n",
       "    <tr>\n",
       "      <th>4</th>\n",
       "      <td>A very good combination of horror+comedy. Beau...</td>\n",
       "      <td>4</td>\n",
       "      <td>3</td>\n",
       "      <td>0</td>\n",
       "    </tr>\n",
       "    <tr>\n",
       "      <th>5</th>\n",
       "      <td>Complete package of Horror-comedy,superb actin...</td>\n",
       "      <td>4</td>\n",
       "      <td>6</td>\n",
       "      <td>0</td>\n",
       "    </tr>\n",
       "    <tr>\n",
       "      <th>6</th>\n",
       "      <td>Great works by all performers. Soundtrack too ...</td>\n",
       "      <td>2</td>\n",
       "      <td>1</td>\n",
       "      <td>0</td>\n",
       "    </tr>\n",
       "    <tr>\n",
       "      <th>7</th>\n",
       "      <td>For me Stree is worth watching as i have reall...</td>\n",
       "      <td>16</td>\n",
       "      <td>6</td>\n",
       "      <td>0</td>\n",
       "    </tr>\n",
       "    <tr>\n",
       "      <th>8</th>\n",
       "      <td>Can't really tell because both of the genre's ...</td>\n",
       "      <td>3</td>\n",
       "      <td>5</td>\n",
       "      <td>0</td>\n",
       "    </tr>\n",
       "    <tr>\n",
       "      <th>9</th>\n",
       "      <td>NaN</td>\n",
       "      <td>0</td>\n",
       "      <td>0</td>\n",
       "      <td>0</td>\n",
       "    </tr>\n",
       "  </tbody>\n",
       "</table>\n",
       "</div>"
      ],
      "text/plain": [
       "                                             comment  uppercase_count  \\\n",
       "0  A very well mixture of comedy and horror. Rema...                4   \n",
       "1  One of the best Indian horror comedy movie i h...                4   \n",
       "2  BEST HORROR COMEDY FILM AFTER BHOOL BHULAIYAA!...               40   \n",
       "3  A zany supernatural parable that is both stron...                6   \n",
       "4  A very good combination of horror+comedy. Beau...                4   \n",
       "5  Complete package of Horror-comedy,superb actin...                4   \n",
       "6  Great works by all performers. Soundtrack too ...                2   \n",
       "7  For me Stree is worth watching as i have reall...               16   \n",
       "8  Can't really tell because both of the genre's ...                3   \n",
       "9                                                NaN                0   \n",
       "\n",
       "   specialchar_count  allnumber_count  \n",
       "0                  4                0  \n",
       "1                 13                3  \n",
       "2                  8                0  \n",
       "3                 18                0  \n",
       "4                  3                0  \n",
       "5                  6                0  \n",
       "6                  1                0  \n",
       "7                  6                0  \n",
       "8                  5                0  \n",
       "9                  0                0  "
      ]
     },
     "execution_count": 22,
     "metadata": {},
     "output_type": "execute_result"
    }
   ],
   "source": [
    "df[['comment', 'uppercase_count','specialchar_count', 'allnumber_count']].head(10)"
   ]
  },
  {
   "cell_type": "markdown",
   "metadata": {},
   "source": [
    "#Basic Preprocessing"
   ]
  },
  {
   "cell_type": "code",
   "execution_count": 23,
   "metadata": {},
   "outputs": [
    {
     "data": {
      "text/html": [
       "<div>\n",
       "<style scoped>\n",
       "    .dataframe tbody tr th:only-of-type {\n",
       "        vertical-align: middle;\n",
       "    }\n",
       "\n",
       "    .dataframe tbody tr th {\n",
       "        vertical-align: top;\n",
       "    }\n",
       "\n",
       "    .dataframe thead th {\n",
       "        text-align: right;\n",
       "    }\n",
       "</style>\n",
       "<table border=\"1\" class=\"dataframe\">\n",
       "  <thead>\n",
       "    <tr style=\"text-align: right;\">\n",
       "      <th></th>\n",
       "      <th>comment_tolower</th>\n",
       "      <th>comment</th>\n",
       "    </tr>\n",
       "  </thead>\n",
       "  <tbody>\n",
       "    <tr>\n",
       "      <th>0</th>\n",
       "      <td>a very well mixture of comedy and horror . rem...</td>\n",
       "      <td>A very well mixture of comedy and horror. Rema...</td>\n",
       "    </tr>\n",
       "    <tr>\n",
       "      <th>1</th>\n",
       "      <td>one of the best indian horror comedy movie i h...</td>\n",
       "      <td>One of the best Indian horror comedy movie i h...</td>\n",
       "    </tr>\n",
       "    <tr>\n",
       "      <th>2</th>\n",
       "      <td>best horror comedy film after bhool bhulaiyaa ...</td>\n",
       "      <td>BEST HORROR COMEDY FILM AFTER BHOOL BHULAIYAA!...</td>\n",
       "    </tr>\n",
       "    <tr>\n",
       "      <th>3</th>\n",
       "      <td>a zany supernatural parable that is both stron...</td>\n",
       "      <td>A zany supernatural parable that is both stron...</td>\n",
       "    </tr>\n",
       "    <tr>\n",
       "      <th>4</th>\n",
       "      <td>a very good combination of horror+comedy . bea...</td>\n",
       "      <td>A very good combination of horror+comedy. Beau...</td>\n",
       "    </tr>\n",
       "    <tr>\n",
       "      <th>5</th>\n",
       "      <td>complete package of horror - comedy , superb a...</td>\n",
       "      <td>Complete package of Horror-comedy,superb actin...</td>\n",
       "    </tr>\n",
       "    <tr>\n",
       "      <th>6</th>\n",
       "      <td>great works by all performers . soundtrack too...</td>\n",
       "      <td>Great works by all performers. Soundtrack too ...</td>\n",
       "    </tr>\n",
       "    <tr>\n",
       "      <th>7</th>\n",
       "      <td>for me stree is worth watching as i have reall...</td>\n",
       "      <td>For me Stree is worth watching as i have reall...</td>\n",
       "    </tr>\n",
       "    <tr>\n",
       "      <th>8</th>\n",
       "      <td>ca n't really tell because both of the genre '...</td>\n",
       "      <td>Can't really tell because both of the genre's ...</td>\n",
       "    </tr>\n",
       "    <tr>\n",
       "      <th>9</th>\n",
       "      <td>nan</td>\n",
       "      <td>NaN</td>\n",
       "    </tr>\n",
       "  </tbody>\n",
       "</table>\n",
       "</div>"
      ],
      "text/plain": [
       "                                     comment_tolower  \\\n",
       "0  a very well mixture of comedy and horror . rem...   \n",
       "1  one of the best indian horror comedy movie i h...   \n",
       "2  best horror comedy film after bhool bhulaiyaa ...   \n",
       "3  a zany supernatural parable that is both stron...   \n",
       "4  a very good combination of horror+comedy . bea...   \n",
       "5  complete package of horror - comedy , superb a...   \n",
       "6  great works by all performers . soundtrack too...   \n",
       "7  for me stree is worth watching as i have reall...   \n",
       "8  ca n't really tell because both of the genre '...   \n",
       "9                                                nan   \n",
       "\n",
       "                                             comment  \n",
       "0  A very well mixture of comedy and horror. Rema...  \n",
       "1  One of the best Indian horror comedy movie i h...  \n",
       "2  BEST HORROR COMEDY FILM AFTER BHOOL BHULAIYAA!...  \n",
       "3  A zany supernatural parable that is both stron...  \n",
       "4  A very good combination of horror+comedy. Beau...  \n",
       "5  Complete package of Horror-comedy,superb actin...  \n",
       "6  Great works by all performers. Soundtrack too ...  \n",
       "7  For me Stree is worth watching as i have reall...  \n",
       "8  Can't really tell because both of the genre's ...  \n",
       "9                                                NaN  "
      ]
     },
     "execution_count": 23,
     "metadata": {},
     "output_type": "execute_result"
    }
   ],
   "source": [
    "# to lowercase\n",
    "def toLowerCase(sentences):\n",
    "    tokens = nlp(str(sentences))\n",
    "    return \" \".join(token.text.lower() for token in tokens)\n",
    "\n",
    "df['comment_tolower'] = df['comment'].apply(lambda x: toLowerCase(x))\n",
    "df[['comment_tolower', 'comment']].head(10)"
   ]
  },
  {
   "cell_type": "code",
   "execution_count": 24,
   "metadata": {},
   "outputs": [
    {
     "data": {
      "text/html": [
       "<div>\n",
       "<style scoped>\n",
       "    .dataframe tbody tr th:only-of-type {\n",
       "        vertical-align: middle;\n",
       "    }\n",
       "\n",
       "    .dataframe tbody tr th {\n",
       "        vertical-align: top;\n",
       "    }\n",
       "\n",
       "    .dataframe thead th {\n",
       "        text-align: right;\n",
       "    }\n",
       "</style>\n",
       "<table border=\"1\" class=\"dataframe\">\n",
       "  <thead>\n",
       "    <tr style=\"text-align: right;\">\n",
       "      <th></th>\n",
       "      <th>comment_tolower</th>\n",
       "      <th>punct_removed</th>\n",
       "    </tr>\n",
       "  </thead>\n",
       "  <tbody>\n",
       "    <tr>\n",
       "      <th>0</th>\n",
       "      <td>a very well mixture of comedy and horror . rem...</td>\n",
       "      <td>a very well mixture of comedy and horror remar...</td>\n",
       "    </tr>\n",
       "    <tr>\n",
       "      <th>1</th>\n",
       "      <td>one of the best indian horror comedy movie i h...</td>\n",
       "      <td>one of the best indian horror comedy movie i h...</td>\n",
       "    </tr>\n",
       "    <tr>\n",
       "      <th>2</th>\n",
       "      <td>best horror comedy film after bhool bhulaiyaa ...</td>\n",
       "      <td>best horror comedy film after bhool bhulaiyaa ...</td>\n",
       "    </tr>\n",
       "    <tr>\n",
       "      <th>3</th>\n",
       "      <td>a zany supernatural parable that is both stron...</td>\n",
       "      <td>a zany supernatural parable that is both stron...</td>\n",
       "    </tr>\n",
       "    <tr>\n",
       "      <th>4</th>\n",
       "      <td>a very good combination of horror+comedy . bea...</td>\n",
       "      <td>a very good combination of horror+comedy beaut...</td>\n",
       "    </tr>\n",
       "    <tr>\n",
       "      <th>5</th>\n",
       "      <td>complete package of horror - comedy , superb a...</td>\n",
       "      <td>complete package of horror comedy superb actin...</td>\n",
       "    </tr>\n",
       "    <tr>\n",
       "      <th>6</th>\n",
       "      <td>great works by all performers . soundtrack too...</td>\n",
       "      <td>great works by all performers soundtrack too good</td>\n",
       "    </tr>\n",
       "    <tr>\n",
       "      <th>7</th>\n",
       "      <td>for me stree is worth watching as i have reall...</td>\n",
       "      <td>for me stree is worth watching as i have reall...</td>\n",
       "    </tr>\n",
       "    <tr>\n",
       "      <th>8</th>\n",
       "      <td>ca n't really tell because both of the genre '...</td>\n",
       "      <td>ca n't really tell because both of the genre '...</td>\n",
       "    </tr>\n",
       "    <tr>\n",
       "      <th>9</th>\n",
       "      <td>nan</td>\n",
       "      <td>nan</td>\n",
       "    </tr>\n",
       "  </tbody>\n",
       "</table>\n",
       "</div>"
      ],
      "text/plain": [
       "                                     comment_tolower  \\\n",
       "0  a very well mixture of comedy and horror . rem...   \n",
       "1  one of the best indian horror comedy movie i h...   \n",
       "2  best horror comedy film after bhool bhulaiyaa ...   \n",
       "3  a zany supernatural parable that is both stron...   \n",
       "4  a very good combination of horror+comedy . bea...   \n",
       "5  complete package of horror - comedy , superb a...   \n",
       "6  great works by all performers . soundtrack too...   \n",
       "7  for me stree is worth watching as i have reall...   \n",
       "8  ca n't really tell because both of the genre '...   \n",
       "9                                                nan   \n",
       "\n",
       "                                       punct_removed  \n",
       "0  a very well mixture of comedy and horror remar...  \n",
       "1  one of the best indian horror comedy movie i h...  \n",
       "2  best horror comedy film after bhool bhulaiyaa ...  \n",
       "3  a zany supernatural parable that is both stron...  \n",
       "4  a very good combination of horror+comedy beaut...  \n",
       "5  complete package of horror comedy superb actin...  \n",
       "6  great works by all performers soundtrack too good  \n",
       "7  for me stree is worth watching as i have reall...  \n",
       "8  ca n't really tell because both of the genre '...  \n",
       "9                                                nan  "
      ]
     },
     "execution_count": 24,
     "metadata": {},
     "output_type": "execute_result"
    }
   ],
   "source": [
    "#Removing Punctuation\n",
    "def removePunctuations(sentences):\n",
    "    tokens = nlp(str(sentences))\n",
    "    return \" \".join([token.text for token in tokens if token.is_punct == False])\n",
    "df['punct_removed'] = df['comment_tolower'].apply(lambda x: removePunctuations(x))\n",
    "df[['comment_tolower', 'punct_removed']].head(10)"
   ]
  },
  {
   "cell_type": "code",
   "execution_count": 25,
   "metadata": {},
   "outputs": [
    {
     "data": {
      "text/html": [
       "<div>\n",
       "<style scoped>\n",
       "    .dataframe tbody tr th:only-of-type {\n",
       "        vertical-align: middle;\n",
       "    }\n",
       "\n",
       "    .dataframe tbody tr th {\n",
       "        vertical-align: top;\n",
       "    }\n",
       "\n",
       "    .dataframe thead th {\n",
       "        text-align: right;\n",
       "    }\n",
       "</style>\n",
       "<table border=\"1\" class=\"dataframe\">\n",
       "  <thead>\n",
       "    <tr style=\"text-align: right;\">\n",
       "      <th></th>\n",
       "      <th>comment_tolower</th>\n",
       "      <th>stopword_removed</th>\n",
       "    </tr>\n",
       "  </thead>\n",
       "  <tbody>\n",
       "    <tr>\n",
       "      <th>0</th>\n",
       "      <td>a very well mixture of comedy and horror . rem...</td>\n",
       "      <td>mixture comedy horror remarkable acting actors...</td>\n",
       "    </tr>\n",
       "    <tr>\n",
       "      <th>1</th>\n",
       "      <td>one of the best indian horror comedy movie i h...</td>\n",
       "      <td>best indian horror comedy movie seen director ...</td>\n",
       "    </tr>\n",
       "    <tr>\n",
       "      <th>2</th>\n",
       "      <td>best horror comedy film after bhool bhulaiyaa ...</td>\n",
       "      <td>best horror comedy film bhool bhulaiyaa commen...</td>\n",
       "    </tr>\n",
       "    <tr>\n",
       "      <th>3</th>\n",
       "      <td>a zany supernatural parable that is both stron...</td>\n",
       "      <td>zany supernatural parable strongly feminist up...</td>\n",
       "    </tr>\n",
       "    <tr>\n",
       "      <th>4</th>\n",
       "      <td>a very good combination of horror+comedy . bea...</td>\n",
       "      <td>good combination horror+comedy beautiful direc...</td>\n",
       "    </tr>\n",
       "    <tr>\n",
       "      <th>5</th>\n",
       "      <td>complete package of horror - comedy , superb a...</td>\n",
       "      <td>complete package horror comedy superb acting b...</td>\n",
       "    </tr>\n",
       "    <tr>\n",
       "      <th>6</th>\n",
       "      <td>great works by all performers . soundtrack too...</td>\n",
       "      <td>great works performers soundtrack good</td>\n",
       "    </tr>\n",
       "    <tr>\n",
       "      <th>7</th>\n",
       "      <td>for me stree is worth watching as i have reall...</td>\n",
       "      <td>stree worth watching enjoyed rajkumar rao pank...</td>\n",
       "    </tr>\n",
       "    <tr>\n",
       "      <th>8</th>\n",
       "      <td>ca n't really tell because both of the genre '...</td>\n",
       "      <td>n't tell genre 's perfectly movie makes awesom...</td>\n",
       "    </tr>\n",
       "    <tr>\n",
       "      <th>9</th>\n",
       "      <td>nan</td>\n",
       "      <td>nan</td>\n",
       "    </tr>\n",
       "  </tbody>\n",
       "</table>\n",
       "</div>"
      ],
      "text/plain": [
       "                                     comment_tolower  \\\n",
       "0  a very well mixture of comedy and horror . rem...   \n",
       "1  one of the best indian horror comedy movie i h...   \n",
       "2  best horror comedy film after bhool bhulaiyaa ...   \n",
       "3  a zany supernatural parable that is both stron...   \n",
       "4  a very good combination of horror+comedy . bea...   \n",
       "5  complete package of horror - comedy , superb a...   \n",
       "6  great works by all performers . soundtrack too...   \n",
       "7  for me stree is worth watching as i have reall...   \n",
       "8  ca n't really tell because both of the genre '...   \n",
       "9                                                nan   \n",
       "\n",
       "                                    stopword_removed  \n",
       "0  mixture comedy horror remarkable acting actors...  \n",
       "1  best indian horror comedy movie seen director ...  \n",
       "2  best horror comedy film bhool bhulaiyaa commen...  \n",
       "3  zany supernatural parable strongly feminist up...  \n",
       "4  good combination horror+comedy beautiful direc...  \n",
       "5  complete package horror comedy superb acting b...  \n",
       "6             great works performers soundtrack good  \n",
       "7  stree worth watching enjoyed rajkumar rao pank...  \n",
       "8  n't tell genre 's perfectly movie makes awesom...  \n",
       "9                                                nan  "
      ]
     },
     "execution_count": 25,
     "metadata": {},
     "output_type": "execute_result"
    }
   ],
   "source": [
    "#Removing Stopword\n",
    "def removeStopWord(sentences):\n",
    "    tokens = nlp(str(sentences))\n",
    "    return \" \".join([token.text for token in tokens if token.is_stop == False])\n",
    "df['stopword_removed'] = df['punct_removed'].apply(lambda x: removeStopWord(x))\n",
    "df[['comment_tolower', 'stopword_removed']].head(10)"
   ]
  },
  {
   "cell_type": "code",
   "execution_count": 43,
   "metadata": {},
   "outputs": [
    {
     "data": {
      "text/plain": [
       "array(['Unnamed: 0', 'comment', 'helpfulness', 'out_of', 'rated', 'title',\n",
       "       'userid', 'word_count', 'word_count_spacy', 'char_count',\n",
       "       'avg_word', 'stopword_count', 'specialchar_count',\n",
       "       'allnumber_count', 'uppercase_count', 'comment_tolower',\n",
       "       'punct_removed', 'stopword_removed'], dtype=object)"
      ]
     },
     "execution_count": 43,
     "metadata": {},
     "output_type": "execute_result"
    }
   ],
   "source": [
    "df.columns.values"
   ]
  },
  {
   "cell_type": "code",
   "execution_count": 67,
   "metadata": {},
   "outputs": [],
   "source": [
    "#Seperate Dict & Non Dict Word\n",
    "def getDictionaryWords(sentence):\n",
    "    tokens = nlp(str(sentence))\n",
    "    dictList = []\n",
    "    nonDictWord = []    \n",
    "    for word in tokens:\n",
    "        key = word.text.lower()        \n",
    "        if bool(dictData.get(key)):\n",
    "            dictList.append(key)\n",
    "        else:\n",
    "            nonDictWord.append(key)\n",
    "    return dictList,nonDictWord, \n",
    "        \n",
    "    \n"
   ]
  },
  {
   "cell_type": "code",
   "execution_count": 69,
   "metadata": {},
   "outputs": [],
   "source": [
    "df['dictword'],df['nondictword'] = zip(*df['comment'].apply(getDictionaryWords))"
   ]
  },
  {
   "cell_type": "code",
   "execution_count": 70,
   "metadata": {},
   "outputs": [
    {
     "data": {
      "text/html": [
       "<div>\n",
       "<style scoped>\n",
       "    .dataframe tbody tr th:only-of-type {\n",
       "        vertical-align: middle;\n",
       "    }\n",
       "\n",
       "    .dataframe tbody tr th {\n",
       "        vertical-align: top;\n",
       "    }\n",
       "\n",
       "    .dataframe thead th {\n",
       "        text-align: right;\n",
       "    }\n",
       "</style>\n",
       "<table border=\"1\" class=\"dataframe\">\n",
       "  <thead>\n",
       "    <tr style=\"text-align: right;\">\n",
       "      <th></th>\n",
       "      <th>dictword</th>\n",
       "      <th>nondictword</th>\n",
       "    </tr>\n",
       "  </thead>\n",
       "  <tbody>\n",
       "    <tr>\n",
       "      <th>0</th>\n",
       "      <td>[a, very, well, mixture, of, comedy, and, horr...</td>\n",
       "      <td>[., ., ., .]</td>\n",
       "    </tr>\n",
       "    <tr>\n",
       "      <th>1</th>\n",
       "      <td>[one, of, the, best, indian, horror, comedy, m...</td>\n",
       "      <td>[.., .., .., kumar, rao, .., ,, .., 9/10, ., plz]</td>\n",
       "    </tr>\n",
       "    <tr>\n",
       "      <th>2</th>\n",
       "      <td>[best, horror, comedy, film, after, if, that, ...</td>\n",
       "      <td>[bhool, bhulaiyaa, !, !, n't, n't, 'll, ...]</td>\n",
       "    </tr>\n",
       "    <tr>\n",
       "      <th>3</th>\n",
       "      <td>[a, zany, supernatural, parable, that, is, bot...</td>\n",
       "      <td>[,, ,, kaushik, 's, -, ,, ., -, -, ,, ., \\r\\n\\...</td>\n",
       "    </tr>\n",
       "    <tr>\n",
       "      <th>4</th>\n",
       "      <td>[a, very, good, combination, of, beautiful, di...</td>\n",
       "      <td>[horror+comedy, ., kumar, rao, ., tripathi]</td>\n",
       "    </tr>\n",
       "    <tr>\n",
       "      <th>5</th>\n",
       "      <td>[complete, package, of, horror, comedy, superb...</td>\n",
       "      <td>[-, ,, ., starcast, ,, ., !]</td>\n",
       "    </tr>\n",
       "    <tr>\n",
       "      <th>6</th>\n",
       "      <td>[great, works, by, all, performers, soundtrack...</td>\n",
       "      <td>[.]</td>\n",
       "    </tr>\n",
       "    <tr>\n",
       "      <th>7</th>\n",
       "      <td>[for, me, stree, is, worth, watching, as, i, h...</td>\n",
       "      <td>[., rajkumar, rao, pankaj, tripathi, ., ., bol...</td>\n",
       "    </tr>\n",
       "    <tr>\n",
       "      <th>8</th>\n",
       "      <td>[ca, really, tell, because, both, of, the, gen...</td>\n",
       "      <td>[n't, 's, ., ., .]</td>\n",
       "    </tr>\n",
       "    <tr>\n",
       "      <th>9</th>\n",
       "      <td>[nan]</td>\n",
       "      <td>[]</td>\n",
       "    </tr>\n",
       "  </tbody>\n",
       "</table>\n",
       "</div>"
      ],
      "text/plain": [
       "                                            dictword  \\\n",
       "0  [a, very, well, mixture, of, comedy, and, horr...   \n",
       "1  [one, of, the, best, indian, horror, comedy, m...   \n",
       "2  [best, horror, comedy, film, after, if, that, ...   \n",
       "3  [a, zany, supernatural, parable, that, is, bot...   \n",
       "4  [a, very, good, combination, of, beautiful, di...   \n",
       "5  [complete, package, of, horror, comedy, superb...   \n",
       "6  [great, works, by, all, performers, soundtrack...   \n",
       "7  [for, me, stree, is, worth, watching, as, i, h...   \n",
       "8  [ca, really, tell, because, both, of, the, gen...   \n",
       "9                                              [nan]   \n",
       "\n",
       "                                         nondictword  \n",
       "0                                       [., ., ., .]  \n",
       "1  [.., .., .., kumar, rao, .., ,, .., 9/10, ., plz]  \n",
       "2       [bhool, bhulaiyaa, !, !, n't, n't, 'll, ...]  \n",
       "3  [,, ,, kaushik, 's, -, ,, ., -, -, ,, ., \\r\\n\\...  \n",
       "4        [horror+comedy, ., kumar, rao, ., tripathi]  \n",
       "5                       [-, ,, ., starcast, ,, ., !]  \n",
       "6                                                [.]  \n",
       "7  [., rajkumar, rao, pankaj, tripathi, ., ., bol...  \n",
       "8                                 [n't, 's, ., ., .]  \n",
       "9                                                 []  "
      ]
     },
     "execution_count": 70,
     "metadata": {},
     "output_type": "execute_result"
    }
   ],
   "source": [
    "df[['dictword','nondictword']].head(10)"
   ]
  },
  {
   "cell_type": "code",
   "execution_count": 80,
   "metadata": {},
   "outputs": [],
   "source": [
    "#Create Adjective list\n",
    "def getAdjectiveWords(sentence):\n",
    "    tokens = nlp(str(sentence))\n",
    "    adjList = []\n",
    "    for word in tokens:\n",
    "        if word.pos_ == \"ADJ\":\n",
    "            adjList.append(word.text)\n",
    "    return \" \".join(adjList)"
   ]
  },
  {
   "cell_type": "code",
   "execution_count": 82,
   "metadata": {},
   "outputs": [],
   "source": [
    "df['adjword'] = df['comment'].apply(getAdjectiveWords)"
   ]
  },
  {
   "cell_type": "code",
   "execution_count": 83,
   "metadata": {},
   "outputs": [
    {
     "data": {
      "text/plain": [
       "0                                     Remarkable my Full\n",
       "1                   best Indian Raj his little free your\n",
       "2                                                 enough\n",
       "3      supernatural that feminist funny first equal i...\n",
       "4              good Beautiful tremendous raj exceptional\n",
       "5      Complete superb brilliant outstanding full fab...\n",
       "6                                             Great good\n",
       "7      worth great many your different sure beautiful...\n",
       "8                          which awesome worth your your\n",
       "9                                                       \n",
       "10                               sexy cool usual awesome\n",
       "11     small which angry female which annual religiou...\n",
       "12                  Excellent Excellent unexpected great\n",
       "13     interesting interesting best best comic perfec...\n",
       "14                                            Good Worth\n",
       "15            usual awesome nice multi talented fabulous\n",
       "16     serious its its own all early true urban simpl...\n",
       "17                              Great best best complete\n",
       "18                                                 hindi\n",
       "19     shobhit my stree good good first full little f...\n",
       "20        Amazing major little low special best original\n",
       "21                           blockbuster best stree best\n",
       "22     Original Perfect scared same Its mindless its ...\n",
       "23                                     Amazing beautiful\n",
       "24                                              best all\n",
       "25                                       such long which\n",
       "26                                    thrilling romantic\n",
       "27                                                      \n",
       "28             Indian new good all Powerful natural good\n",
       "29                     good most funny great other worth\n",
       "                             ...                        \n",
       "365                                           simple own\n",
       "366                                                     \n",
       "367                                                     \n",
       "368               good worst wonderful great decent good\n",
       "369    its best coomposed good typical flippant india...\n",
       "370                                                     \n",
       "371                                       Her lame other\n",
       "372                                            Nice nice\n",
       "373                                                    😣\n",
       "374                                                     \n",
       "375                                     only dissaponted\n",
       "376                                            that nice\n",
       "377                                   entertaining loose\n",
       "378                               average much good much\n",
       "379                                           ayush weak\n",
       "380    their right right their best famous its own bo...\n",
       "381                                       black positive\n",
       "382                                   Great long perfect\n",
       "383                                                     \n",
       "384                                    perfect his first\n",
       "385    my his Other commendable good least good diffe...\n",
       "386                               its different good its\n",
       "387                                Full funny scary Full\n",
       "388    single interesting good true stree her interes...\n",
       "389                         scary funny social few their\n",
       "390                                           sure their\n",
       "391                               Best Great comic great\n",
       "392                                                     \n",
       "393                                              awesome\n",
       "394    good lovely his absolute natural unnecessary g...\n",
       "Name: adjword, Length: 395, dtype: object"
      ]
     },
     "execution_count": 83,
     "metadata": {},
     "output_type": "execute_result"
    }
   ],
   "source": [
    "df['adjword']"
   ]
  },
  {
   "cell_type": "code",
   "execution_count": 86,
   "metadata": {},
   "outputs": [
    {
     "name": "stdout",
     "output_type": "stream",
     "text": [
      "Remarkable my Full. best Indian Raj his little free your. enough. supernatural that feminist funny first equal its conflicting firm steady its its comic climatic very spectral its hilarious. good Beautiful tremendous raj exceptional. Complete superb brilliant outstanding full fabulous. Great good. worth great many your different sure beautiful which wow Great. which awesome worth your your. . sexy cool usual awesome. small which angry female which annual religious urban best his whole mysterious upto unique usual multiple dark which perfect outlandish scary its scary which great visual sound perfect most sinister their different multiple tacky My genuine different. Excellent Excellent unexpected great. interesting interesting best best comic perfect his best first fabulous Funny quirky such high such long such decent comic. Good Worth. usual awesome nice multi talented fabulous. serious its its own all early true urban simple their their young ghastly good his true mysterious his half their new macabre historical paranormal free serious more sinister its humble smart debutant lethal its funny scary whole its ensemble its leading all good enough unreasonable curious next such underappreciated passable liberal subtle mass little slapstick old enjoyable. Great best best complete. hindi. shobhit my stree good good first full little full all superb mytrious. Amazing major little low special best original. blockbuster best stree best. Original Perfect scared same Its mindless its better third our which blended other perfect young better pretty negative which extra. Amazing beautiful. best all. such long which. thrilling romantic. . Indian new good all Powerful natural good. good most funny great other worth. few best different glad stree different different which desi enjoyable which ITS YOUR which your uncomfortable. next Exciting thrilled surprised perfect 1st. absolute full Good classic your Wonderful social hilarious sure last Worth. Commendable relaxed Its. that several annual young unsuspecting their gifted first mysterious young her his his happy careful other next true great fresh necessary better effective entertaining right hilarious witty Few sure commendable his first dramatic spooky much excellent final high eerie light hearted which sweet scary chilling first pre its underwhelming confusing new earnest sure his cool second terrific fine mysterious second great Same superb last first big second lone important entertaining peppy best entertaining okay excellent eerie sound better ideal vague certain authentic special upto simple unique that funny their Impressive. . . other Witty superb their perfect. ridiculous modern experimental witty scary hilarious entertaining lively real its manishMalhotra his early such excellent witty his other mysterious conundrum timely ordinary unanswered feminist subtext her her our which daily old your which stree stree hooked original. bored multiple full finest best his impeccable. stree scarier few tiny Perfect. afraid interesting right good his best. . rare upto that good deep good great finessed all short its all least only original quite surprising more young that least that few sporadic diligent holy general scared dark their all more social that humaare par moot brilliant last Stree perfect right that half its same our enough. My. Best entertaining. real connected scary complete All ejoyable little longer. which Indian urban that late. Nice Nice good. usual good full intense. funny. Great Unconventional Superb Excellent unlimited. All good her clear most possible most. small that superstitious. . greatest able my new. Good worth more afraid all Good. enjoyable urban commercial which social which. superb amazing full scary full sound awesome. good fabulous. big Big all difficult such stree specific paranormal his single which particular comic relaxed such Indian. crazy stree which which craziest stree. alive. which main right less usual good black madhya hilarious which Delightful dark sure biccky good His comic excellent great outfocused great which His good her top first talented his more fresh indian best indian. long stree logical which. its few stree best recent nanu its horyifing hillarious. that best brilliant perfect comic particular ridiculous hilarious scary original all subtle subtle clear original witty best Hindi. top tough. long good full genuine promising good comic good his average their obvious generous more. my little scary supperbb. . that next its slow that Spine. sweet cute great. his other Ramgopal terrific which quirky his excellent decent meatier fast dull innovative such stree most Stree good scary commendable sure subtle social patriarchal social baked more unnecessary good more. excellent versatile talented. full scary. Awesome comic great fictional phenomenal. Its best long. Womderful stellar sound that great. amazed funny great. Awsome good its. many that his other great Special sound which major other their short complete weak hearted. stereotypical indian scary scary scary funny few good okay. Best amazing good. their best Whole short serious lead late relevant most mysterious. its kind Indian amazing. best. unsatisfied cinematographical worth your masterful endearing sure final. Best its its best. amazing perfect All. . satire dark which good comfortable higher its fresh outstanding good banerjee good his best. great all. complete great. spine chilling fine hilarious. complete awesome. . his second worth awesome his. good few good their best next Catchy. brilliant great great best indian. Overwhelming new. Amazing Lovedd amazing comic tooo good good her sequal. Great next. Excellent. simple that Most satisfactory scared connected real good good overall whole understandable clear which blurry most their own its good few. light strong next. his her. best its awsome great. . . great. entertaining great bored exhausted. that spooky same. . perfect bored single whole talented amazing outstanding. Good great ok entertaining. good their good. Superb. its your hilarious that effective relatable which big many weird possible big other mainstream which your. . new awesome wise best. best quite tough. great which great comic only that tantra. . scary funny. Quite hilirious horeible. awesome comic Perfect. What awesome new stree nice. awesome. . enjoyable good right all relatable. good which great all good. . . many best many more which best their same stree all that good ridiculous true cinematic that his Great finest. Stree superstitious sleepy good new real many local confusing underrated great good equal which social disappointing confused her best. Indian what convincing marvellous major social sarcastic hilarious great. best new indian. your perfect confusing that. best good main great thrilling. . scary superb authentic their opposite right equal scary funny entertaining good better. SiraaAjjsnsjdnd. . New different. average good novel. social that first third civilized second male dominant more such pertinent unique that its relevant little preachy good good rare small many hilarious his her comic top veritable good many brilliant great good comedic problematic fine several loud little long little serious conventional that all its ambiguous entertaining experimental that eerie funny scary same their its its final. NICE WHICH REDICOLOUS. few Great ok Great. . amazing full about. local scary superb. different fresh wonderful average only decent. . good. Great. My high simple best. best Indian recent exquisite average marvelous beautiful its happy light your different. . . nice. best Indian which great his phenomenal meaningful. awesome Nice best. good good. clever good witty funny. sure stree my marvelous full good extra. fabulous. such amazing full comic outstanding rural stree their interesting unique her good which Indian. my initial First Second Gifted talented virtuoso accomplished ingenious inventive creative greatest that last enough outstanding Fantastic brilliant superb all other key likable first her large large such hilarious such ridiculous very real entire his which more ready massive massive. Awesome which his her next. stellar phenomenal crude rustic rustic slick definite usual hilarious brilliant ludicrous female Their comical intriguing. urban main powerful all. nice nice good awesome. random fun good most all brilliant side most other their own individual ready. Great Amazing. great social. good Its whole its. Best. interested other promotional that new wrong less Best least last small fourth more my sure bigger. such. amazing entertaining their best. brilliant his which lead worth social its own More comic its. . Amazing. . earnest whole great catchy His many his fictional full comic such Comic horrible much awesome his witty his his kick her beautiful her her which new exciting her little all fictional female all which delicious stree. Good beautiful sure. all Its good awesome much most serious Perfect great other. great little next great. which. . Good wonderful more strange worth Good lead. Awesome due Great Its. Its which fabulous Fabulous. Fabulous. . such funny long All good. new different new. Indian indian their cheap boring unwatchable surprised indian its your my our your your best stree. awsm strong story.turning. awesome magical local Comic same wise few unanserwed Sound great creepy certain extra good all. old good my favourite last good Hindi my small his curious my many my pin my late long straight such mysterious blind safe!My late grand first my familiar glad Indian much interesting ridiculous engaging old small that dark dingy right right earthy rustic tense lone safe total interesting pertinent that his other terrific charming talented his endearing his rustic his goofy good hilarious His his his many humorous beautiful mysterious her which unsatisfied few your hot topical more absurd ridiculous right their different my. Good good scaresfdsa great good great your. right flawless unusual. Best other perfect. Its Its funny scary unique usual multiple dark which perfect outlandish scary good sound visuals.@amarkaushik good superb @rajkummar_rao real genuine comic witty good brilliant His brilliant.@shraddhakapoor her banerjee unnecessary better rollercoaster. Great perfect. best 100cr. our own indian its untouched risky same old all marvellous risky indian best other. same old seductive Great amazing amazing Great tight their their single poor poor blank few which Few subtle political Few larger. . only his dead its best my my whose negative Great embarrassed your molester. Its funny great true scary. All their. high All due compulsive convenient different all which enjoyable his fantastic intact small much. awesome brilliant Similar. Full all. what own best best baffling which his own Sensational entire perfect whatever brilliant Happy big their your worth entertaining impressive amazing. that startup enthusiastic Big low greater his interesting young subtle good your easy your next. much disappointed more advisable metaphorical real special good rough first Her okayish first true his proper. my new great great first scared crazy Great good its its worth your that its. Awesome my fav. Such great nice. epic usual awesome her Best awesome clear Many double awesome good My. spooky strong which. right small famous Its suitable funny. good good Clean scary. indian its better better its better other indian. best hilarious many scary good amazing good eerie great outstanding good that bored terrific his awesome great your clear last perfect terrified. which hilarious scary your simple intriguing good fantastic hilarious outstanding beautiful non glamorous stellar sure interesting funny perfect entire best. awesome comic tremendous deep fantastic which your sure. sure our numerous hillarious Right. Awesome perfect. pleasant which great. great good great. Nice awesome full. Best usual awesome nice beautiful. Raj his best full perfect its next its which next more some.different. funny nice mysterious old all which male fresh alone scary amazing intriguing great which funny good fresh. long beautiful. Amazing long. first its Indian. Best that finest. more appropriate streee???. innovative same Distinctive previous Scary haunting scary Rural beautiful funny interesting urban many good ridiculous funny great terrific worth Notable his his hilarious many more notable Disappointed small bigger good funnier Genuine my its new/ Innovative. . awesome bored single scary there other. Awesome great scary funny comfortable worth your fantastic. best long amazing their respective. Excellent best last nice stree stree. . wholesome finest Indian. brilliant sorry inert emphatic. Outstanding great. difficult scared same His exceptional strong. best perfect. full perfect. natural good long such great. good your. fresh Great. novel unique sure Indian which good subtle unique many social complex interested bored uninterested unique novel few key(good bad open ended ambiguous Many proper genuine successful many comfortable improper much. new good better muffled Good good. other talented best terrifying comedic particular magnificent underrated funny serious my entire phenomenal my fantastic unique over fake fake 8.5/10 its unlike most terrifying hilarious. serious scared light funny clumsy. Rajkummar fantastic its real Best. What beautiful sweet Best best. best. unique due amazing more superfluous My only unnecessary modern showstopper amazing. great. . my its its its housefullllllll finest loud ordinary extraordinary Fresh its best beautiful Its awesome bore average creative beautiful superb your last more different Best best. fresh Interesting quirky their best goosebumpy superb his flawless comic mesmerising bright unwanted its. Nice Fantastic scary basic forced perfect Indian scary evil. . worth superb equal special. 10th last same. great best great. great mixed excellent Outstanding. ridiculous modern. . SMALL HIS YOUNG REAL. ghostly her that their personal futile our young serious. superb comic superb awkward Worth your. his comic awesome his other fine other excellent comic good our real his special funny important good important wholesome good. amazing significant comic perfect boring interesting important comic their unique amazing rounded possible few necessary few comic which hilarious which most comic important social which such. . same great smartest. perfect. Overall good Perfect great best nice. Entertaining delightful frightening lovely crazy top crass that Excellent entire. Excellent gripping hilarious. Stree true new interesting small which their famous his different good brilliant small his good best good which watchable single which boring different. few spooky superb. outstanding unpredictable upto nice. Brilliant brilliant which maximum Indian only perfect comic best true that Indian social that worth. Interesting adulterous. best original magnificent. Best. . which your impeccable his his His comic superb worth great my their which good successful which good entertaining. Stree right charming hilarious stree nice genuine clever third important satire stree false their perfect their perfect mysterious ALL. All fantastic different best unexpected commendable. . hooked last subtle all right Indian its their seamless. Nice long. gripping 2nd hard full desi Full effective Such natural unusual surprised Quite unpredictable impressive fun average Overall Rare desi multiple such excellent. Which awesome real average that your whole. Good pretty best Moral unique that new my good natural awesome better. good commendable proper stree last which. Superb nice good. Indian many typical small Indian satisfactory old best Hindi. terrific funny comic all super more such full. your movie.special genuine. first few indian best fantastic nice its. Great big wrong great decent superb big best my. Its brilliant. gross terrified sure conventional able different difficult great humourous frightening left unchecked painful predictable new his bad boring gullible sincere his profess immense his his brilliant his second satisfactory mysterious quiet special Best all elder his fluent nimnalikhit most worthy slow first unnecessary unnecessary touchy romantic such less female stree opposite better your. rollercoaster great great urban Great awesome sound cool excellent new. Amazing Superb. which small which her which fresh interesting few which wonderful full social unsafe first full hilarious curious second better his flip few few decent his mobile which his gorgeous her easy talented his best. slow worst better lame. talented good their own charming small its lead non hard other last weird irritated. its biggest all same that her weird decent enough more comparable funny their her several open real second tepid cheap available scared. brilliant weird what entire that interesting practical disappointing. proper nice. Poor poor poorer condemn stupid stree educated stree stree her stree. many positive its bad many many. . Nice. visible yearly her alive Good banerjee funny. that her real peculiar full that your your that your their which impressive enough whole common social that full which unweaved intelligent several that early. positive superlative crisp awesome perfect negative. Indian urban strange small which ghostly festive ridiculous fresh unusual same skilled mysterious close which his abducted librarian evil good its brilliant which same satire dark ample all common clear powerful which subtle visual top single outstanding perfect loose its scheduled. Amazing right same good preachy more. short hilarious our Indian hilarious few unfinished few good worth. scary funny same his her comic top key superb many rare Good. weird horror- other Special better quite few weird entire sound amazing good sound. . more perfect amazing perfect which Best bored. willing which great social which her his own. which nice ye sanu. fantastic boring single. complete catchy frequent crazy sure. best new which best Indian urban its her unsatisfied crucial common which its its stree her what which strong his usual sure superb fabulous which mute which scary decent modern impressed sure good their many my possible good second watchable single whole fair first happy many which last frightened reverse Whatever our our whole Scary funny best Entertaining. awesome hearted comedic little. long such great which full finest awesome. . perfect little dull his second total more innocent small Outstanding good her cute brilliant wonderful Good great terrific witty uske sabka our Your funny double only brilliant more Last bored regular new. Such nice fantastic natual. amazing hahaha. such such Perfect your fine amazing surprising your bored full full social your. full your his best their same their second their first such. . good ok bad small good potential average more small their much which ridiculous old. good unchained which its good unchained. whole strong good entertaining. Nice main streem better better incomplete. . good. positive double second first that. my that good Most more short that my my right half stree happy my Average your decent. first half proper much my my. . best clever general most that slapstick 1st equality/ which most current Hindi general light which 2nd moral loose same weakest cold lead blank Good other better lead better least. Good Good Good Good Good Good Good Good Good Good Good Good Good Good Good Good Good Good. simple own. . . good worst wonderful great decent good. its best coomposed good typical flippant indian young much futile that absurd more greater All which sensical sick interesting better your. . Her lame other. Nice nice. 😣. . only dissaponted. that nice. entertaining loose. average much good much. ayush weak. their right right their best famous its own bollycomic long long further. black positive. Great long perfect. . perfect his first. my his Other commendable good least good different usual old old. its different good its. Full funny scary Full. single interesting good true stree her interesting outdated fresh first stree stree paranornal stree better usual previous good few important present stree which present that cute her other realistic typical horrible perfect bored perfect good fresh mainstream Indian sure light. scary funny social few their. sure their. Best Great comic great. . awesome. good lovely his absolute natural unnecessary good all pleasant"
     ]
    },
    {
     "name": "stdout",
     "output_type": "stream",
     "text": [
      "\n"
     ]
    }
   ],
   "source": [
    "print(\". \".join(df['adjword'].tolist()))"
   ]
  },
  {
   "cell_type": "code",
   "execution_count": 101,
   "metadata": {},
   "outputs": [
    {
     "name": "stdout",
     "output_type": "stream",
     "text": [
      "['Remarkable', 'my', 'Full', 'best', 'Indian', 'Raj', 'his', 'little', 'free', 'your', 'enough', 'supernatural', 'that', 'feminist', 'funny', 'first', 'equal', 'its', 'conflicting', 'firm', 'steady', 'its', 'its', 'comic', 'climatic', 'very', 'spectral', 'its', 'hilarious', 'good', 'Beautiful', 'tremendous', 'raj', 'exceptional', 'Complete', 'superb', 'brilliant', 'outstanding', 'full', 'fabulous', 'Great', 'good', 'worth', 'great', 'many', 'your', 'different', 'sure', 'beautiful', 'which', 'wow', 'Great', 'which', 'awesome', 'worth', 'your', 'your', 'sexy', 'cool', 'usual', 'awesome', 'small', 'which', 'angry', 'female', 'which', 'annual', 'religious', 'urban', 'best', 'his', 'whole', 'mysterious', 'upto', 'unique', 'usual', 'multiple', 'dark', 'which', 'perfect', 'outlandish', 'scary', 'its', 'scary', 'which', 'great', 'visual', 'sound', 'perfect', 'most', 'sinister', 'their', 'different', 'multiple', 'tacky', 'My', 'genuine', 'different', 'Excellent', 'Excellent', 'unexpected', 'great', 'interesting', 'interesting', 'best', 'best', 'comic', 'perfect', 'his', 'best', 'first', 'fabulous', 'Funny', 'quirky', 'such', 'high', 'such', 'long', 'such', 'decent', 'comic', 'Good', 'Worth', 'usual', 'awesome', 'nice', 'multi', 'talented', 'fabulous', 'serious', 'its', 'its', 'own', 'all', 'early', 'true', 'urban', 'simple', 'their', 'their', 'young', 'ghastly', 'good', 'his', 'true', 'mysterious', 'his', 'half', 'their', 'new', 'macabre', 'historical', 'paranormal', 'free', 'serious', 'more', 'sinister', 'its', 'humble', 'smart', 'debutant', 'lethal', 'its', 'funny', 'scary', 'whole', 'its', 'ensemble', 'its', 'leading', 'all', 'good', 'enough', 'unreasonable', 'curious', 'next', 'such', 'underappreciated', 'passable', 'liberal', 'subtle', 'mass', 'little', 'slapstick', 'old', 'enjoyable', 'Great', 'best', 'best', 'complete', 'hindi', 'shobhit', 'my', 'stree', 'good', 'good', 'first', 'full', 'little', 'full', 'all', 'superb', 'mytrious', 'Amazing', 'major', 'little', 'low', 'special', 'best', 'original', 'blockbuster', 'best', 'stree', 'best', 'Original', 'Perfect', 'scared', 'same', 'Its', 'mindless', 'its', 'better', 'third', 'our', 'which', 'blended', 'other', 'perfect', 'young', 'better', 'pretty', 'negative', 'which', 'extra', 'Amazing', 'beautiful', 'best', 'all', 'such', 'long', 'which', 'thrilling', 'romantic', 'Indian', 'new', 'good', 'all', 'Powerful', 'natural', 'good', 'good', 'most', 'funny', 'great', 'other', 'worth', 'few', 'best', 'different', 'glad', 'stree', 'different', 'different', 'which', 'desi', 'enjoyable', 'which', 'ITS', 'YOUR', 'which', 'your', 'uncomfortable', 'next', 'Exciting', 'thrilled', 'surprised', 'perfect', '1st', 'absolute', 'full', 'Good', 'classic', 'your', 'Wonderful', 'social', 'hilarious', 'sure', 'last', 'Worth', 'Commendable', 'relaxed', 'Its', 'that', 'several', 'annual', 'young', 'unsuspecting', 'their', 'gifted', 'first', 'mysterious', 'young', 'her', 'his', 'his', 'happy', 'careful', 'other', 'next', 'true', 'great', 'fresh', 'necessary', 'better', 'effective', 'entertaining', 'right', 'hilarious', 'witty', 'Few', 'sure', 'commendable', 'his', 'first', 'dramatic', 'spooky', 'much', 'excellent', 'final', 'high', 'eerie', 'light', 'hearted', 'which', 'sweet', 'scary', 'chilling', 'first', 'pre', 'its', 'underwhelming', 'confusing', 'new', 'earnest', 'sure', 'his', 'cool', 'second', 'terrific', 'fine', 'mysterious', 'second', 'great', 'Same', 'superb', 'last', 'first', 'big', 'second', 'lone', 'important', 'entertaining', 'peppy', 'best', 'entertaining', 'okay', 'excellent', 'eerie', 'sound', 'better', 'ideal', 'vague', 'certain', 'authentic', 'special', 'upto', 'simple', 'unique', 'that', 'funny', 'their', 'Impressive', 'other', 'Witty', 'superb', 'their', 'perfect', 'ridiculous', 'modern', 'experimental', 'witty', 'scary', 'hilarious', 'entertaining', 'lively', 'real', 'its', 'manishMalhotra', 'his', 'early', 'such', 'excellent', 'witty', 'his', 'other', 'mysterious', 'conundrum', 'timely', 'ordinary', 'unanswered', 'feminist', 'subtext', 'her', 'her', 'our', 'which', 'daily', 'old', 'your', 'which', 'stree', 'stree', 'hooked', 'original', 'bored', 'multiple', 'full', 'finest', 'best', 'his', 'impeccable', 'stree', 'scarier', 'few', 'tiny', 'Perfect', 'afraid', 'interesting', 'right', 'good', 'his', 'best', 'rare', 'upto', 'that', 'good', 'deep', 'good', 'great', 'finessed', 'all', 'short', 'its', 'all', 'least', 'only', 'original', 'quite', 'surprising', 'more', 'young', 'that', 'least', 'that', 'few', 'sporadic', 'diligent', 'holy', 'general', 'scared', 'dark', 'their', 'all', 'more', 'social', 'that', 'humaare', 'par', 'moot', 'brilliant', 'last', 'Stree', 'perfect', 'right', 'that', 'half', 'its', 'same', 'our', 'enough', 'My', 'Best', 'entertaining', 'real', 'connected', 'scary', 'complete', 'All', 'ejoyable', 'little', 'longer', 'which', 'Indian', 'urban', 'that', 'late', 'Nice', 'Nice', 'good', 'usual', 'good', 'full', 'intense', 'funny', 'Great', 'Unconventional', 'Superb', 'Excellent', 'unlimited', 'All', 'good', 'her', 'clear', 'most', 'possible', 'most', 'small', 'that', 'superstitious', 'greatest', 'able', 'my', 'new', 'Good', 'worth', 'more', 'afraid', 'all', 'Good', 'enjoyable', 'urban', 'commercial', 'which', 'social', 'which', 'superb', 'amazing', 'full', 'scary', 'full', 'sound', 'awesome', 'good', 'fabulous', 'big', 'Big', 'all', 'difficult', 'such', 'stree', 'specific', 'paranormal', 'his', 'single', 'which', 'particular', 'comic', 'relaxed', 'such', 'Indian', 'crazy', 'stree', 'which', 'which', 'craziest', 'stree', 'alive', 'which', 'main', 'right', 'less', 'usual', 'good', 'black', 'madhya', 'hilarious', 'which', 'Delightful', 'dark', 'sure', 'biccky', 'good', 'His', 'comic', 'excellent', 'great', 'outfocused', 'great', 'which', 'His', 'good', 'her', 'top', 'first', 'talented', 'his', 'more', 'fresh', 'indian', 'best', 'indian', 'long', 'stree', 'logical', 'which', 'its', 'few', 'stree', 'best', 'recent', 'nanu', 'its', 'horyifing', 'hillarious', 'that', 'best', 'brilliant', 'perfect', 'comic', 'particular', 'ridiculous', 'hilarious', 'scary', 'original', 'all', 'subtle', 'subtle', 'clear', 'original', 'witty', 'best', 'Hindi', 'top', 'tough', 'long', 'good', 'full', 'genuine', 'promising', 'good', 'comic', 'good', 'his', 'average', 'their', 'obvious', 'generous', 'more', 'my', 'little', 'scary', 'supperbb', 'that', 'next', 'its', 'slow', 'that', 'Spine', 'sweet', 'cute', 'great', 'his', 'other', 'Ramgopal', 'terrific', 'which', 'quirky', 'his', 'excellent', 'decent', 'meatier', 'fast', 'dull', 'innovative', 'such', 'stree', 'most', 'Stree', 'good', 'scary', 'commendable', 'sure', 'subtle', 'social', 'patriarchal', 'social', 'baked', 'more', 'unnecessary', 'good', 'more', 'excellent', 'versatile', 'talented', 'full', 'scary', 'Awesome', 'comic', 'great', 'fictional', 'phenomenal', 'Its', 'best', 'long', 'Womderful', 'stellar', 'sound', 'that', 'great', 'amazed', 'funny', 'great', 'Awsome', 'good', 'its', 'many', 'that', 'his', 'other', 'great', 'Special', 'sound', 'which', 'major', 'other', 'their', 'short', 'complete', 'weak', 'hearted', 'stereotypical', 'indian', 'scary', 'scary', 'scary', 'funny', 'few', 'good', 'okay', 'Best', 'amazing', 'good', 'their', 'best', 'Whole', 'short', 'serious', 'lead', 'late', 'relevant', 'most', 'mysterious', 'its', 'kind', 'Indian', 'amazing', 'best', 'unsatisfied', 'cinematographical', 'worth', 'your', 'masterful', 'endearing', 'sure', 'final', 'Best', 'its', 'its', 'best', 'amazing', 'perfect', 'All', 'satire', 'dark', 'which', 'good', 'comfortable', 'higher', 'its', 'fresh', 'outstanding', 'good', 'banerjee', 'good', 'his', 'best', 'great', 'all', 'complete', 'great', 'spine', 'chilling', 'fine', 'hilarious', 'complete', 'awesome', 'his', 'second', 'worth', 'awesome', 'his', 'good', 'few', 'good', 'their', 'best', 'next', 'Catchy', 'brilliant', 'great', 'great', 'best', 'indian', 'Overwhelming', 'new', 'Amazing', 'Lovedd', 'amazing', 'comic', 'tooo', 'good', 'good', 'her', 'sequal', 'Great', 'next', 'Excellent', 'simple', 'that', 'Most', 'satisfactory', 'scared', 'connected', 'real', 'good', 'good', 'overall', 'whole', 'understandable', 'clear', 'which', 'blurry', 'most', 'their', 'own', 'its', 'good', 'few', 'light', 'strong', 'next', 'his', 'her', 'best', 'its', 'awsome', 'great', 'great', 'entertaining', 'great', 'bored', 'exhausted', 'that', 'spooky', 'same', 'perfect', 'bored', 'single', 'whole', 'talented', 'amazing', 'outstanding', 'Good', 'great', 'ok', 'entertaining', 'good', 'their', 'good', 'Superb', 'its', 'your', 'hilarious', 'that', 'effective', 'relatable', 'which', 'big', 'many', 'weird', 'possible', 'big', 'other', 'mainstream', 'which', 'your', 'new', 'awesome', 'wise', 'best', 'best', 'quite', 'tough', 'great', 'which', 'great', 'comic', 'only', 'that', 'tantra', 'scary', 'funny', 'Quite', 'hilirious', 'horeible', 'awesome', 'comic', 'Perfect', 'What', 'awesome', 'new', 'stree', 'nice', 'awesome', 'enjoyable', 'good', 'right', 'all', 'relatable', 'good', 'which', 'great', 'all', 'good', 'many', 'best', 'many', 'more', 'which', 'best', 'their', 'same', 'stree', 'all', 'that', 'good', 'ridiculous', 'true', 'cinematic', 'that', 'his', 'Great', 'finest', 'Stree', 'superstitious', 'sleepy', 'good', 'new', 'real', 'many', 'local', 'confusing', 'underrated', 'great', 'good', 'equal', 'which', 'social', 'disappointing', 'confused', 'her', 'best', 'Indian', 'what', 'convincing', 'marvellous', 'major', 'social', 'sarcastic', 'hilarious', 'great', 'best', 'new', 'indian', 'your', 'perfect', 'confusing', 'that', 'best', 'good', 'main', 'great', 'thrilling', 'scary', 'superb', 'authentic', 'their', 'opposite', 'right', 'equal', 'scary', 'funny', 'entertaining', 'good', 'better', 'SiraaAjjsnsjdnd', 'New', 'different', 'average', 'good', 'novel', 'social', 'that', 'first', 'third', 'civilized', 'second', 'male', 'dominant', 'more', 'such', 'pertinent', 'unique', 'that', 'its', 'relevant', 'little', 'preachy', 'good', 'good', 'rare', 'small', 'many', 'hilarious', 'his', 'her', 'comic', 'top', 'veritable', 'good', 'many', 'brilliant', 'great', 'good', 'comedic', 'problematic', 'fine', 'several', 'loud', 'little', 'long', 'little', 'serious', 'conventional', 'that', 'all', 'its', 'ambiguous', 'entertaining', 'experimental', 'that', 'eerie', 'funny', 'scary', 'same', 'their', 'its', 'its', 'final', 'NICE', 'WHICH', 'REDICOLOUS', 'few', 'Great', 'ok', 'Great', 'amazing', 'full', 'about', 'local', 'scary', 'superb', 'different', 'fresh', 'wonderful', 'average', 'only', 'decent', 'good', 'Great', 'My', 'high', 'simple', 'best', 'best', 'Indian', 'recent', 'exquisite', 'average', 'marvelous', 'beautiful', 'its', 'happy', 'light', 'your', 'different', 'nice', 'best', 'Indian', 'which', 'great', 'his', 'phenomenal', 'meaningful', 'awesome', 'Nice', 'best', 'good', 'good', 'clever', 'good', 'witty', 'funny', 'sure', 'stree', 'my', 'marvelous', 'full', 'good', 'extra', 'fabulous', 'such', 'amazing', 'full', 'comic', 'outstanding', 'rural', 'stree', 'their', 'interesting', 'unique', 'her', 'good', 'which', 'Indian', 'my', 'initial', 'First', 'Second', 'Gifted', 'talented', 'virtuoso', 'accomplished', 'ingenious', 'inventive', 'creative', 'greatest', 'that', 'last', 'enough', 'outstanding', 'Fantastic', 'brilliant', 'superb', 'all', 'other', 'key', 'likable', 'first', 'her', 'large', 'large', 'such', 'hilarious', 'such', 'ridiculous', 'very', 'real', 'entire', 'his', 'which', 'more', 'ready', 'massive', 'massive', 'Awesome', 'which', 'his', 'her', 'next', 'stellar', 'phenomenal', 'crude', 'rustic', 'rustic', 'slick', 'definite', 'usual', 'hilarious', 'brilliant', 'ludicrous', 'female', 'Their', 'comical', 'intriguing', 'urban', 'main', 'powerful', 'all', 'nice', 'nice', 'good', 'awesome', 'random', 'fun', 'good', 'most', 'all', 'brilliant', 'side', 'most', 'other', 'their', 'own', 'individual', 'ready', 'Great', 'Amazing', 'great', 'social', 'good', 'Its', 'whole', 'its', 'Best', 'interested', 'other', 'promotional', 'that', 'new', 'wrong', 'less', 'Best', 'least', 'last', 'small', 'fourth', 'more', 'my', 'sure', 'bigger', 'such', 'amazing', 'entertaining', 'their', 'best', 'brilliant', 'his', 'which', 'lead', 'worth', 'social', 'its', 'own', 'More', 'comic', 'its', 'Amazing', 'earnest', 'whole', 'great', 'catchy', 'His', 'many', 'his', 'fictional', 'full', 'comic', 'such', 'Comic', 'horrible', 'much', 'awesome', 'his', 'witty', 'his', 'his', 'kick', 'her', 'beautiful', 'her', 'her', 'which', 'new', 'exciting', 'her', 'little', 'all', 'fictional', 'female', 'all', 'which', 'delicious', 'stree', 'Good', 'beautiful', 'sure', 'all', 'Its', 'good', 'awesome', 'much', 'most', 'serious', 'Perfect', 'great', 'other', 'great', 'little', 'next', 'great', 'which', 'Good', 'wonderful', 'more', 'strange', 'worth', 'Good', 'lead', 'Awesome', 'due', 'Great', 'Its', 'Its', 'which', 'fabulous', 'Fabulous', 'Fabulous', 'such', 'funny', 'long', 'All', 'good', 'new', 'different', 'new', 'Indian', 'indian', 'their', 'cheap', 'boring', 'unwatchable', 'surprised', 'indian', 'its', 'your', 'my', 'our', 'your', 'your', 'best', 'stree', 'awsm', 'strong', 'story.turning', 'awesome', 'magical', 'local', 'Comic', 'same', 'wise', 'few', 'unanserwed', 'Sound', 'great', 'creepy', 'certain', 'extra', 'good', 'all', 'old', 'good', 'my', 'favourite', 'last', 'good', 'Hindi', 'my', 'small', 'his', 'curious', 'my', 'many', 'my', 'pin', 'my', 'late', 'long', 'straight', 'such', 'mysterious', 'blind', 'safe!My', 'late', 'grand', 'first', 'my', 'familiar', 'glad', 'Indian', 'much', 'interesting', 'ridiculous', 'engaging', 'old', 'small', 'that', 'dark', 'dingy', 'right', 'right', 'earthy', 'rustic', 'tense', 'lone', 'safe', 'total', 'interesting', 'pertinent', 'that', 'his', 'other', 'terrific', 'charming', 'talented', 'his', 'endearing', 'his', 'rustic', 'his', 'goofy', 'good', 'hilarious', 'His', 'his', 'his', 'many', 'humorous', 'beautiful', 'mysterious', 'her', 'which', 'unsatisfied', 'few', 'your', 'hot', 'topical', 'more', 'absurd', 'ridiculous', 'right', 'their', 'different', 'my', 'Good', 'good', 'scaresfdsa', 'great', 'good', 'great', 'your', 'right', 'flawless', 'unusual', 'Best', 'other', 'perfect', 'Its', 'Its', 'funny', 'scary', 'unique', 'usual', 'multiple', 'dark', 'which', 'perfect', 'outlandish', 'scary', 'good', 'sound', 'visuals.@amarkaushik', 'good', 'superb', '@rajkummar_rao', 'real', 'genuine', 'comic', 'witty', 'good', 'brilliant', 'His', 'brilliant.@shraddhakapoor', 'her', 'banerjee', 'unnecessary', 'better', 'rollercoaster', 'Great', 'perfect', 'best', '100cr', 'our', 'own', 'indian', 'its', 'untouched', 'risky', 'same', 'old', 'all', 'marvellous', 'risky', 'indian', 'best', 'other', 'same', 'old', 'seductive', 'Great', 'amazing', 'amazing', 'Great', 'tight', 'their', 'their', 'single', 'poor', 'poor', 'blank', 'few', 'which', 'Few', 'subtle', 'political', 'Few', 'larger', 'only', 'his', 'dead', 'its', 'best', 'my', 'my', 'whose', 'negative', 'Great', 'embarrassed', 'your', 'molester', 'Its', 'funny', 'great', 'true', 'scary', 'All', 'their', 'high', 'All', 'due', 'compulsive', 'convenient', 'different', 'all', 'which', 'enjoyable', 'his', 'fantastic', 'intact', 'small', 'much', 'awesome', 'brilliant', 'Similar', 'Full', 'all', 'what', 'own', 'best', 'best', 'baffling', 'which', 'his', 'own', 'Sensational', 'entire', 'perfect', 'whatever', 'brilliant', 'Happy', 'big', 'their', 'your', 'worth', 'entertaining', 'impressive', 'amazing', 'that', 'startup', 'enthusiastic', 'Big', 'low', 'greater', 'his', 'interesting', 'young', 'subtle', 'good', 'your', 'easy', 'your', 'next', 'much', 'disappointed', 'more', 'advisable', 'metaphorical', 'real', 'special', 'good', 'rough', 'first', 'Her', 'okayish', 'first', 'true', 'his', 'proper', 'my', 'new', 'great', 'great', 'first', 'scared', 'crazy', 'Great', 'good', 'its', 'its', 'worth', 'your', 'that', 'its', 'Awesome', 'my', 'fav', 'Such', 'great', 'nice', 'epic', 'usual', 'awesome', 'her', 'Best', 'awesome', 'clear', 'Many', 'double', 'awesome', 'good', 'My', 'spooky', 'strong', 'which', 'right', 'small', 'famous', 'Its', 'suitable', 'funny', 'good', 'good', 'Clean', 'scary', 'indian', 'its', 'better', 'better', 'its', 'better', 'other', 'indian', 'best', 'hilarious', 'many', 'scary', 'good', 'amazing', 'good', 'eerie', 'great', 'outstanding', 'good', 'that', 'bored', 'terrific', 'his', 'awesome', 'great', 'your', 'clear', 'last', 'perfect', 'terrified', 'which', 'hilarious', 'scary', 'your', 'simple', 'intriguing', 'good', 'fantastic', 'hilarious', 'outstanding', 'beautiful', 'non', 'glamorous', 'stellar', 'sure', 'interesting', 'funny', 'perfect', 'entire', 'best', 'awesome', 'comic', 'tremendous', 'deep', 'fantastic', 'which', 'your', 'sure', 'sure', 'our', 'numerous', 'hillarious', 'Right', 'Awesome', 'perfect', 'pleasant', 'which', 'great', 'great', 'good', 'great', 'Nice', 'awesome', 'full', 'Best', 'usual', 'awesome', 'nice', 'beautiful', 'Raj', 'his', 'best', 'full', 'perfect', 'its', 'next', 'its', 'which', 'next', 'more', 'some.different', 'funny', 'nice', 'mysterious', 'old', 'all', 'which', 'male', 'fresh', 'alone', 'scary', 'amazing', 'intriguing', 'great', 'which', 'funny', 'good', 'fresh', 'long', 'beautiful', 'Amazing', 'long', 'first', 'its', 'Indian', 'Best', 'that', 'finest', 'more', 'appropriate', 'streee???', 'innovative', 'same', 'Distinctive', 'previous', 'Scary', 'haunting', 'scary', 'Rural', 'beautiful', 'funny', 'interesting', 'urban', 'many', 'good', 'ridiculous', 'funny', 'great', 'terrific', 'worth', 'Notable', 'his', 'his', 'hilarious', 'many', 'more', 'notable', 'Disappointed', 'small', 'bigger', 'good', 'funnier', 'Genuine', 'my', 'its', 'new/', 'Innovative', 'awesome', 'bored', 'single', 'scary', 'there', 'other', 'Awesome', 'great', 'scary', 'funny', 'comfortable', 'worth', 'your', 'fantastic', 'best', 'long', 'amazing', 'their', 'respective', 'Excellent', 'best', 'last', 'nice', 'stree', 'stree', 'wholesome', 'finest', 'Indian', 'brilliant', 'sorry', 'inert', 'emphatic', 'Outstanding', 'great', 'difficult', 'scared', 'same', 'His', 'exceptional', 'strong', 'best', 'perfect', 'full', 'perfect', 'natural', 'good', 'long', 'such', 'great', 'good', 'your', 'fresh', 'Great', 'novel', 'unique', 'sure', 'Indian', 'which', 'good', 'subtle', 'unique', 'many', 'social', 'complex', 'interested', 'bored', 'uninterested', 'unique', 'novel', 'few', 'key(good', 'bad', 'open', 'ended', 'ambiguous', 'Many', 'proper', 'genuine', 'successful', 'many', 'comfortable', 'improper', 'much', 'new', 'good', 'better', 'muffled', 'Good', 'good', 'other', 'talented', 'best', 'terrifying', 'comedic', 'particular', 'magnificent', 'underrated', 'funny', 'serious', 'my', 'entire', 'phenomenal', 'my', 'fantastic', 'unique', 'over', 'fake', 'fake', '8.5/10', 'its', 'unlike', 'most', 'terrifying', 'hilarious', 'serious', 'scared', 'light', 'funny', 'clumsy', 'Rajkummar', 'fantastic', 'its', 'real', 'Best', 'What', 'beautiful', 'sweet', 'Best', 'best', 'best', 'unique', 'due', 'amazing', 'more', 'superfluous', 'My', 'only', 'unnecessary', 'modern', 'showstopper', 'amazing', 'great', 'my', 'its', 'its', 'its', 'housefullllllll', 'finest', 'loud', 'ordinary', 'extraordinary', 'Fresh', 'its', 'best', 'beautiful', 'Its', 'awesome', 'bore', 'average', 'creative', 'beautiful', 'superb', 'your', 'last', 'more', 'different', 'Best', 'best', 'fresh', 'Interesting', 'quirky', 'their', 'best', 'goosebumpy', 'superb', 'his', 'flawless', 'comic', 'mesmerising', 'bright', 'unwanted', 'its', 'Nice', 'Fantastic', 'scary', 'basic', 'forced', 'perfect', 'Indian', 'scary', 'evil', 'worth', 'superb', 'equal', 'special', '10th', 'last', 'same', 'great', 'best', 'great', 'great', 'mixed', 'excellent', 'Outstanding', 'ridiculous', 'modern', 'SMALL', 'HIS', 'YOUNG', 'REAL', 'ghostly', 'her', 'that', 'their', 'personal', 'futile', 'our', 'young', 'serious', 'superb', 'comic', 'superb', 'awkward', 'Worth', 'your', 'his', 'comic', 'awesome', 'his', 'other', 'fine', 'other', 'excellent', 'comic', 'good', 'our', 'real', 'his', 'special', 'funny', 'important', 'good', 'important', 'wholesome', 'good', 'amazing', 'significant', 'comic', 'perfect', 'boring', 'interesting', 'important', 'comic', 'their', 'unique', 'amazing', 'rounded', 'possible', 'few', 'necessary', 'few', 'comic', 'which', 'hilarious', 'which', 'most', 'comic', 'important', 'social', 'which', 'such', 'same', 'great', 'smartest', 'perfect', 'Overall', 'good', 'Perfect', 'great', 'best', 'nice', 'Entertaining', 'delightful', 'frightening', 'lovely', 'crazy', 'top', 'crass', 'that', 'Excellent', 'entire', 'Excellent', 'gripping', 'hilarious', 'Stree', 'true', 'new', 'interesting', 'small', 'which', 'their', 'famous', 'his', 'different', 'good', 'brilliant', 'small', 'his', 'good', 'best', 'good', 'which', 'watchable', 'single', 'which', 'boring', 'different', 'few', 'spooky', 'superb', 'outstanding', 'unpredictable', 'upto', 'nice', 'Brilliant', 'brilliant', 'which', 'maximum', 'Indian', 'only', 'perfect', 'comic', 'best', 'true', 'that', 'Indian', 'social', 'that', 'worth', 'Interesting', 'adulterous', 'best', 'original', 'magnificent', 'Best', 'which', 'your', 'impeccable', 'his', 'his', 'His', 'comic', 'superb', 'worth', 'great', 'my', 'their', 'which', 'good', 'successful', 'which', 'good', 'entertaining', 'Stree', 'right', 'charming', 'hilarious', 'stree', 'nice', 'genuine', 'clever', 'third', 'important', 'satire', 'stree', 'false', 'their', 'perfect', 'their', 'perfect', 'mysterious', 'ALL', 'All', 'fantastic', 'different', 'best', 'unexpected', 'commendable', 'hooked', 'last', 'subtle', 'all', 'right', 'Indian', 'its', 'their', 'seamless', 'Nice', 'long', 'gripping', '2nd', 'hard', 'full', 'desi', 'Full', 'effective', 'Such', 'natural', 'unusual', 'surprised', 'Quite', 'unpredictable', 'impressive', 'fun', 'average', 'Overall', 'Rare', 'desi', 'multiple', 'such', 'excellent', 'Which', 'awesome', 'real', 'average', 'that', 'your', 'whole', 'Good', 'pretty', 'best', 'Moral', 'unique', 'that', 'new', 'my', 'good', 'natural', 'awesome', 'better', 'good', 'commendable', 'proper', 'stree', 'last', 'which', 'Superb', 'nice', 'good', 'Indian', 'many', 'typical', 'small', 'Indian', 'satisfactory', 'old', 'best', 'Hindi', 'terrific', 'funny', 'comic', 'all', 'super', 'more', 'such', 'full', 'your', 'movie.special', 'genuine', 'first', 'few', 'indian', 'best', 'fantastic', 'nice', 'its', 'Great', 'big', 'wrong', 'great', 'decent', 'superb', 'big', 'best', 'my', 'Its', 'brilliant', 'gross', 'terrified', 'sure', 'conventional', 'able', 'different', 'difficult', 'great', 'humourous', 'frightening', 'left', 'unchecked', 'painful', 'predictable', 'new', 'his', 'bad', 'boring', 'gullible', 'sincere', 'his', 'profess', 'immense', 'his', 'his', 'brilliant', 'his', 'second', 'satisfactory', 'mysterious', 'quiet', 'special', 'Best', 'all', 'elder', 'his', 'fluent', 'nimnalikhit', 'most', 'worthy', 'slow', 'first', 'unnecessary', 'unnecessary', 'touchy', 'romantic', 'such', 'less', 'female', 'stree', 'opposite', 'better', 'your', 'rollercoaster', 'great', 'great', 'urban', 'Great', 'awesome', 'sound', 'cool', 'excellent', 'new', 'Amazing', 'Superb', 'which', 'small', 'which', 'her', 'which', 'fresh', 'interesting', 'few', 'which', 'wonderful', 'full', 'social', 'unsafe', 'first', 'full', 'hilarious', 'curious', 'second', 'better', 'his', 'flip', 'few', 'few', 'decent', 'his', 'mobile', 'which', 'his', 'gorgeous', 'her', 'easy', 'talented', 'his', 'best', 'slow', 'worst', 'better', 'lame', 'talented', 'good', 'their', 'own', 'charming', 'small', 'its', 'lead', 'non', 'hard', 'other', 'last', 'weird', 'irritated', 'its', 'biggest', 'all', 'same', 'that', 'her', 'weird', 'decent', 'enough', 'more', 'comparable', 'funny', 'their', 'her', 'several', 'open', 'real', 'second', 'tepid', 'cheap', 'available', 'scared', 'brilliant', 'weird', 'what', 'entire', 'that', 'interesting', 'practical', 'disappointing', 'proper', 'nice', 'Poor', 'poor', 'poorer', 'condemn', 'stupid', 'stree', 'educated', 'stree', 'stree', 'her', 'stree', 'many', 'positive', 'its', 'bad', 'many', 'many', 'Nice', 'visible', 'yearly', 'her', 'alive', 'Good', 'banerjee', 'funny', 'that', 'her', 'real', 'peculiar', 'full', 'that', 'your', 'your', 'that', 'your', 'their', 'which', 'impressive', 'enough', 'whole', 'common', 'social', 'that', 'full', 'which', 'unweaved', 'intelligent', 'several', 'that', 'early', 'positive', 'superlative', 'crisp', 'awesome', 'perfect', 'negative', 'Indian', 'urban', 'strange', 'small', 'which', 'ghostly', 'festive', 'ridiculous', 'fresh', 'unusual', 'same', 'skilled', 'mysterious', 'close', 'which', 'his', 'abducted', 'librarian', 'evil', 'good', 'its', 'brilliant', 'which', 'same', 'satire', 'dark', 'ample', 'all', 'common', 'clear', 'powerful', 'which', 'subtle', 'visual', 'top', 'single', 'outstanding', 'perfect', 'loose', 'its', 'scheduled', 'Amazing', 'right', 'same', 'good', 'preachy', 'more', 'short', 'hilarious', 'our', 'Indian', 'hilarious', 'few', 'unfinished', 'few', 'good', 'worth', 'scary', 'funny', 'same', 'his', 'her', 'comic', 'top', 'key', 'superb', 'many', 'rare', 'Good', 'weird', 'horror-', 'other', 'Special', 'better', 'quite', 'few', 'weird', 'entire', 'sound', 'amazing', 'good', 'sound', 'more', 'perfect', 'amazing', 'perfect', 'which', 'Best', 'bored', 'willing', 'which', 'great', 'social', 'which', 'her', 'his', 'own', 'which', 'nice', 'ye', 'sanu', 'fantastic', 'boring', 'single', 'complete', 'catchy', 'frequent', 'crazy', 'sure', 'best', 'new', 'which', 'best', 'Indian', 'urban', 'its', 'her', 'unsatisfied', 'crucial', 'common', 'which', 'its', 'its', 'stree', 'her', 'what', 'which', 'strong', 'his', 'usual', 'sure', 'superb', 'fabulous', 'which', 'mute', 'which', 'scary', 'decent', 'modern', 'impressed', 'sure', 'good', 'their', 'many', 'my', 'possible', 'good', 'second', 'watchable', 'single', 'whole', 'fair', 'first', 'happy', 'many', 'which', 'last', 'frightened', 'reverse', 'Whatever', 'our', 'our', 'whole', 'Scary', 'funny', 'best', 'Entertaining', 'awesome', 'hearted', 'comedic', 'little', 'long', 'such', 'great', 'which', 'full', 'finest', 'awesome', 'perfect', 'little', 'dull', 'his', 'second', 'total', 'more', 'innocent', 'small', 'Outstanding', 'good', 'her', 'cute', 'brilliant', 'wonderful', 'Good', 'great', 'terrific', 'witty', 'uske', 'sabka', 'our', 'Your', 'funny', 'double', 'only', 'brilliant', 'more', 'Last', 'bored', 'regular', 'new', 'Such', 'nice', 'fantastic', 'natual', 'amazing', 'hahaha', 'such', 'such', 'Perfect', 'your', 'fine', 'amazing', 'surprising', 'your', 'bored', 'full', 'full', 'social', 'your', 'full', 'your', 'his', 'best', 'their', 'same', 'their', 'second', 'their', 'first', 'such', 'good', 'ok', 'bad', 'small', 'good', 'potential', 'average', 'more', 'small', 'their', 'much', 'which', 'ridiculous', 'old', 'good', 'unchained', 'which', 'its', 'good', 'unchained', 'whole', 'strong', 'good', 'entertaining', 'Nice', 'main', 'streem', 'better', 'better', 'incomplete', 'good', 'positive', 'double', 'second', 'first', 'that', 'my', 'that', 'good', 'Most', 'more', 'short', 'that', 'my', 'my', 'right', 'half', 'stree', 'happy', 'my', 'Average', 'your', 'decent', 'first', 'half', 'proper', 'much', 'my', 'my', 'best', 'clever', 'general', 'most', 'that', 'slapstick', '1st', 'equality/', 'which', 'most', 'current', 'Hindi', 'general', 'light', 'which', '2nd', 'moral', 'loose', 'same', 'weakest', 'cold', 'lead', 'blank', 'Good', 'other', 'better', 'lead', 'better', 'least', 'Good', 'Good', 'Good', 'Good', 'Good', 'Good', 'Good', 'Good', 'Good', 'Good', 'Good', 'Good', 'Good', 'Good', 'Good', 'Good', 'Good', 'Good', 'simple', 'own', 'good', 'worst', 'wonderful', 'great', 'decent', 'good', 'its', 'best', 'coomposed', 'good', 'typical', 'flippant', 'indian', 'young', 'much', 'futile', 'that', 'absurd', 'more', 'greater', 'All', 'which', 'sensical', 'sick', 'interesting', 'better', 'your', 'Her', 'lame', 'other', 'Nice', 'nice', '😣', 'only', 'dissaponted', 'that', 'nice', 'entertaining', 'loose', 'average', 'much', 'good', 'much', 'ayush', 'weak', 'their', 'right', 'right', 'their', 'best', 'famous', 'its', 'own', 'bollycomic', 'long', 'long', 'further', 'black', 'positive', 'Great', 'long', 'perfect', 'perfect', 'his', 'first', 'my', 'his', 'Other', 'commendable', 'good', 'least', 'good', 'different', 'usual', 'old', 'old', 'its', 'different', 'good', 'its', 'Full', 'funny', 'scary', 'Full', 'single', 'interesting', 'good', 'true', 'stree', 'her', 'interesting', 'outdated', 'fresh', 'first', 'stree', 'stree', 'paranornal', 'stree', 'better', 'usual', 'previous', 'good', 'few', 'important', 'present', 'stree', 'which', 'present', 'that', 'cute', 'her', 'other', 'realistic', 'typical', 'horrible', 'perfect', 'bored', 'perfect', 'good', 'fresh', 'mainstream', 'Indian', 'sure', 'light', 'scary', 'funny', 'social', 'few', 'their', 'sure', 'their', 'Best', 'Great', 'comic', 'great', 'awesome', 'good', 'lovely', 'his', 'absolute', 'natural', 'unnecessary', 'good', 'all', 'pleasant']"
     ]
    },
    {
     "name": "stdout",
     "output_type": "stream",
     "text": [
      "\n"
     ]
    }
   ],
   "source": [
    "sent = (\" \".join(df['adjword'].tolist())).split()\n",
    "print(sent)"
   ]
  },
  {
   "cell_type": "code",
   "execution_count": 108,
   "metadata": {},
   "outputs": [
    {
     "name": "stdout",
     "output_type": "stream",
     "text": [
      "3037\n"
     ]
    }
   ],
   "source": [
    "wordList = []\n",
    "for token in sent:\n",
    "    wordList.append(token)\n",
    "    \n",
    "print(len(wordList))"
   ]
  },
  {
   "cell_type": "code",
   "execution_count": 104,
   "metadata": {},
   "outputs": [],
   "source": [
    "# Given a list of words, return a dictionary of\n",
    "# word-frequency pairs.\n",
    "\n",
    "def wordListToFreqDict(wordlist):\n",
    "    wordfreq = [wordlist.count(p) for p in wordlist]\n",
    "    return dict(zip(wordlist,wordfreq))"
   ]
  },
  {
   "cell_type": "code",
   "execution_count": 105,
   "metadata": {},
   "outputs": [],
   "source": [
    "comments_freq_dict = wordListToFreqDict(wordList)"
   ]
  },
  {
   "cell_type": "code",
   "execution_count": 109,
   "metadata": {},
   "outputs": [
    {
     "data": {
      "text/plain": [
       "695"
      ]
     },
     "execution_count": 109,
     "metadata": {},
     "output_type": "execute_result"
    }
   ],
   "source": [
    "len(comments_freq_dict)"
   ]
  },
  {
   "cell_type": "code",
   "execution_count": 110,
   "metadata": {},
   "outputs": [
    {
     "data": {
      "text/plain": [
       "695"
      ]
     },
     "execution_count": 110,
     "metadata": {},
     "output_type": "execute_result"
    }
   ],
   "source": [
    "len(comments_freq_dict)"
   ]
  },
  {
   "cell_type": "code",
   "execution_count": 112,
   "metadata": {},
   "outputs": [],
   "source": [
    "wordsDataframe = pd.DataFrame(list(comments_freq_dict.items()),columns=['Word', 'Frequency'])"
   ]
  },
  {
   "cell_type": "code",
   "execution_count": 116,
   "metadata": {},
   "outputs": [],
   "source": [
    "moreThanOne = (wordsDataframe[wordsDataframe['Frequency'] > 1]['Word']).tolist()"
   ]
  },
  {
   "cell_type": "code",
   "execution_count": 118,
   "metadata": {},
   "outputs": [],
   "source": [
    "moreThanOne = \" \".join(moreThanOne)"
   ]
  },
  {
   "cell_type": "code",
   "execution_count": 119,
   "metadata": {},
   "outputs": [
    {
     "data": {
      "text/plain": [
       "'my Full best Indian Raj his little free your enough that feminist funny first equal its comic very hilarious good tremendous exceptional superb brilliant outstanding full fabulous Great worth great many different sure beautiful which awesome cool usual small female annual urban whole mysterious upto unique multiple dark perfect outlandish scary visual sound most sinister their My genuine Excellent unexpected interesting quirky such high long decent Good Worth nice talented serious own all early true simple young half new paranormal more curious next subtle slapstick old enjoyable complete stree Amazing major low special original Perfect scared same Its better third our other pretty negative extra thrilling romantic natural few glad desi surprised 1st absolute social last relaxed several her happy fresh necessary effective entertaining right witty Few commendable spooky much excellent final eerie light hearted sweet chilling confusing earnest second terrific fine big lone important okay certain authentic ridiculous modern experimental real ordinary hooked bored finest impeccable afraid rare deep short least only quite surprising general Stree Best connected All late Nice Superb clear possible superstitious greatest able amazing Big difficult single particular crazy alive main less black His top indian recent hillarious Hindi tough average slow cute dull innovative unnecessary Awesome fictional phenomenal stellar Special weak lead relevant unsatisfied endearing satire comfortable banerjee Most satisfactory strong ok relatable weird mainstream wise Quite What local underrated disappointing what marvellous opposite novel male pertinent preachy comedic loud conventional ambiguous wonderful marvelous clever creative Fantastic key large entire ready massive rustic intriguing powerful fun interested wrong bigger catchy Comic horrible strange due Fabulous cheap boring total charming absurd flawless unusual rollercoaster risky poor blank fantastic impressive greater easy Her proper Such Many double famous terrified non pleasant previous Scary wholesome Outstanding bad open successful terrifying magnificent fake Interesting evil ghostly futile Overall Entertaining frightening lovely gripping watchable unpredictable 2nd hard typical worst lame positive common loose unchained present'"
      ]
     },
     "execution_count": 119,
     "metadata": {},
     "output_type": "execute_result"
    }
   ],
   "source": [
    "moreThanOne"
   ]
  },
  {
   "cell_type": "code",
   "execution_count": null,
   "metadata": {},
   "outputs": [],
   "source": []
  },
  {
   "cell_type": "code",
   "execution_count": null,
   "metadata": {},
   "outputs": [],
   "source": []
  },
  {
   "cell_type": "code",
   "execution_count": null,
   "metadata": {},
   "outputs": [],
   "source": []
  },
  {
   "cell_type": "code",
   "execution_count": null,
   "metadata": {},
   "outputs": [],
   "source": []
  },
  {
   "cell_type": "code",
   "execution_count": null,
   "metadata": {},
   "outputs": [],
   "source": []
  },
  {
   "cell_type": "code",
   "execution_count": null,
   "metadata": {},
   "outputs": [],
   "source": []
  },
  {
   "cell_type": "code",
   "execution_count": null,
   "metadata": {},
   "outputs": [],
   "source": []
  },
  {
   "cell_type": "code",
   "execution_count": null,
   "metadata": {},
   "outputs": [],
   "source": []
  },
  {
   "cell_type": "code",
   "execution_count": null,
   "metadata": {},
   "outputs": [],
   "source": []
  },
  {
   "cell_type": "code",
   "execution_count": 52,
   "metadata": {
    "scrolled": true
   },
   "outputs": [],
   "source": [
    "df_test = pd.DataFrame([\n",
    "  {'dir': '/Users/uname1', 'size': 994933},\n",
    "  {'dir': '/Users/uname2', 'size': 109338711},\n",
    "])\n",
    "\n",
    "def sizes(s):    \n",
    "    return (s / 1024.0),(s / 1024.0 ** 2),(s / 1024.0 ** 3)\n",
    "df_test['size_kb'],  df_test['size_mb'], df_test['size_gb'] = zip(*df_test['size'].apply(sizes))\n",
    "    "
   ]
  },
  {
   "cell_type": "code",
   "execution_count": 48,
   "metadata": {},
   "outputs": [],
   "source": [
    "import locale"
   ]
  },
  {
   "cell_type": "code",
   "execution_count": 53,
   "metadata": {},
   "outputs": [
    {
     "data": {
      "text/html": [
       "<div>\n",
       "<style scoped>\n",
       "    .dataframe tbody tr th:only-of-type {\n",
       "        vertical-align: middle;\n",
       "    }\n",
       "\n",
       "    .dataframe tbody tr th {\n",
       "        vertical-align: top;\n",
       "    }\n",
       "\n",
       "    .dataframe thead th {\n",
       "        text-align: right;\n",
       "    }\n",
       "</style>\n",
       "<table border=\"1\" class=\"dataframe\">\n",
       "  <thead>\n",
       "    <tr style=\"text-align: right;\">\n",
       "      <th></th>\n",
       "      <th>dir</th>\n",
       "      <th>size</th>\n",
       "      <th>size_kb</th>\n",
       "      <th>size_mb</th>\n",
       "      <th>size_gb</th>\n",
       "    </tr>\n",
       "  </thead>\n",
       "  <tbody>\n",
       "    <tr>\n",
       "      <th>0</th>\n",
       "      <td>/Users/uname1</td>\n",
       "      <td>994933</td>\n",
       "      <td>971.614258</td>\n",
       "      <td>0.948842</td>\n",
       "      <td>0.000927</td>\n",
       "    </tr>\n",
       "    <tr>\n",
       "      <th>1</th>\n",
       "      <td>/Users/uname2</td>\n",
       "      <td>109338711</td>\n",
       "      <td>106776.084961</td>\n",
       "      <td>104.273520</td>\n",
       "      <td>0.101830</td>\n",
       "    </tr>\n",
       "  </tbody>\n",
       "</table>\n",
       "</div>"
      ],
      "text/plain": [
       "             dir       size        size_kb     size_mb   size_gb\n",
       "0  /Users/uname1     994933     971.614258    0.948842  0.000927\n",
       "1  /Users/uname2  109338711  106776.084961  104.273520  0.101830"
      ]
     },
     "execution_count": 53,
     "metadata": {},
     "output_type": "execute_result"
    }
   ],
   "source": [
    "df_test"
   ]
  },
  {
   "cell_type": "code",
   "execution_count": null,
   "metadata": {},
   "outputs": [],
   "source": []
  },
  {
   "cell_type": "code",
   "execution_count": null,
   "metadata": {},
   "outputs": [],
   "source": []
  },
  {
   "cell_type": "code",
   "execution_count": null,
   "metadata": {},
   "outputs": [],
   "source": []
  },
  {
   "cell_type": "code",
   "execution_count": null,
   "metadata": {},
   "outputs": [],
   "source": []
  },
  {
   "cell_type": "code",
   "execution_count": null,
   "metadata": {},
   "outputs": [],
   "source": []
  },
  {
   "cell_type": "code",
   "execution_count": null,
   "metadata": {},
   "outputs": [],
   "source": []
  },
  {
   "cell_type": "code",
   "execution_count": null,
   "metadata": {},
   "outputs": [],
   "source": []
  },
  {
   "cell_type": "code",
   "execution_count": 1,
   "metadata": {},
   "outputs": [],
   "source": [
    "#doc = nlp(df['comment'][0])"
   ]
  },
  {
   "cell_type": "code",
   "execution_count": 4,
   "metadata": {},
   "outputs": [],
   "source": [
    "#simillarity\n",
    "#list(doc.sents)[0].similarity(list(doc.sents)[0])"
   ]
  },
  {
   "cell_type": "code",
   "execution_count": 8,
   "metadata": {},
   "outputs": [],
   "source": [
    "#ents = list(doc.ents)"
   ]
  },
  {
   "cell_type": "code",
   "execution_count": 9,
   "metadata": {},
   "outputs": [],
   "source": [
    "#doc = nlp(df['comment'][0])"
   ]
  },
  {
   "cell_type": "code",
   "execution_count": 10,
   "metadata": {},
   "outputs": [],
   "source": [
    "#for token in doc:\n",
    "#    print(token.text, token.pos_, token.dep_)"
   ]
  },
  {
   "cell_type": "code",
   "execution_count": 2,
   "metadata": {},
   "outputs": [],
   "source": [
    "#for token in doc:\n",
    "#    print(token.text, token.lemma_, token.pos_, token.tag_, token.dep_,\n",
    "#          token.shape_, token.is_alpha, token.is_stop)"
   ]
  },
  {
   "cell_type": "code",
   "execution_count": 3,
   "metadata": {},
   "outputs": [],
   "source": [
    "#f = open('only_comments.txt', \"r\",encoding='utf8')\n",
    "#lines = f.readlines()\n",
    "#f.close()\n",
    "#print(lines)"
   ]
  },
  {
   "cell_type": "code",
   "execution_count": 38,
   "metadata": {},
   "outputs": [],
   "source": [
    "comments_list = df['comment'].tolist()"
   ]
  },
  {
   "cell_type": "code",
   "execution_count": 39,
   "metadata": {},
   "outputs": [
    {
     "data": {
      "text/plain": [
       "395"
      ]
     },
     "execution_count": 39,
     "metadata": {},
     "output_type": "execute_result"
    }
   ],
   "source": [
    "len(comments_list)"
   ]
  },
  {
   "cell_type": "code",
   "execution_count": 40,
   "metadata": {},
   "outputs": [],
   "source": [
    "comments_string = ''.join(comments_list)"
   ]
  },
  {
   "cell_type": "code",
   "execution_count": 87,
   "metadata": {},
   "outputs": [],
   "source": []
  },
  {
   "cell_type": "code",
   "execution_count": 42,
   "metadata": {},
   "outputs": [],
   "source": []
  },
  {
   "cell_type": "code",
   "execution_count": 97,
   "metadata": {},
   "outputs": [
    {
     "name": "stdout",
     "output_type": "stream",
     "text": [
      "29000\n"
     ]
    }
   ],
   "source": [
    "#wordlist = comments_string.split()\n"
   ]
  },
  {
   "cell_type": "code",
   "execution_count": 45,
   "metadata": {},
   "outputs": [
    {
     "data": {
      "text/plain": [
       "4116"
      ]
     },
     "execution_count": 45,
     "metadata": {},
     "output_type": "execute_result"
    }
   ],
   "source": [
    "len(comments_freq_dict)"
   ]
  },
  {
   "cell_type": "code",
   "execution_count": 92,
   "metadata": {},
   "outputs": [],
   "source": [
    "wordsDataframe = pd.DataFrame(list(comments_freq_dict.items()),columns=['Word', 'Frequency'])"
   ]
  },
  {
   "cell_type": "code",
   "execution_count": 76,
   "metadata": {},
   "outputs": [],
   "source": [
    "#s = pd.Series(comments_freq_dict, name='Frequency')\n",
    "#s.index.name = 'word'\n",
    "#s.reset_index()"
   ]
  },
  {
   "cell_type": "code",
   "execution_count": 93,
   "metadata": {},
   "outputs": [
    {
     "data": {
      "text/plain": [
       "(4116, 2)"
      ]
     },
     "execution_count": 93,
     "metadata": {},
     "output_type": "execute_result"
    }
   ],
   "source": [
    "wordsDataframe.shape"
   ]
  },
  {
   "cell_type": "code",
   "execution_count": 126,
   "metadata": {},
   "outputs": [],
   "source": [
    "morethan15 = wordsDataframe[wordsDataframe['Frequency'] > 15].copy()"
   ]
  },
  {
   "cell_type": "code",
   "execution_count": 129,
   "metadata": {},
   "outputs": [],
   "source": [
    "morethan15[['Frequency','Word']].to_csv('wordfreq.csv')"
   ]
  },
  {
   "cell_type": "code",
   "execution_count": null,
   "metadata": {},
   "outputs": [],
   "source": []
  },
  {
   "cell_type": "code",
   "execution_count": null,
   "metadata": {},
   "outputs": [],
   "source": []
  },
  {
   "cell_type": "code",
   "execution_count": null,
   "metadata": {},
   "outputs": [],
   "source": []
  },
  {
   "cell_type": "code",
   "execution_count": null,
   "metadata": {},
   "outputs": [],
   "source": []
  },
  {
   "cell_type": "code",
   "execution_count": null,
   "metadata": {},
   "outputs": [],
   "source": []
  },
  {
   "cell_type": "code",
   "execution_count": 47,
   "metadata": {},
   "outputs": [
    {
     "data": {
      "text/plain": [
       "(4116, 1)"
      ]
     },
     "execution_count": 47,
     "metadata": {},
     "output_type": "execute_result"
    }
   ],
   "source": []
  },
  {
   "cell_type": "code",
   "execution_count": 21,
   "metadata": {},
   "outputs": [],
   "source": [
    "# Spacy tokenization\n",
    "doc = nlp(comments_string)"
   ]
  },
  {
   "cell_type": "code",
   "execution_count": 22,
   "metadata": {},
   "outputs": [],
   "source": [
    "#wordsDF = pd.DataFrame(wordsSeries)\n",
    "#doc"
   ]
  },
  {
   "cell_type": "code",
   "execution_count": 23,
   "metadata": {},
   "outputs": [
    {
     "data": {
      "text/plain": [
       "33"
      ]
     },
     "execution_count": 23,
     "metadata": {},
     "output_type": "execute_result"
    }
   ],
   "source": [
    "len(wordList)"
   ]
  },
  {
   "cell_type": "code",
   "execution_count": 24,
   "metadata": {},
   "outputs": [],
   "source": [
    "from spacy.lang.en.stop_words import STOP_WORDS"
   ]
  },
  {
   "cell_type": "code",
   "execution_count": 25,
   "metadata": {},
   "outputs": [
    {
     "name": "stdout",
     "output_type": "stream",
     "text": [
      "305\n"
     ]
    }
   ],
   "source": [
    "print(len(STOP_WORDS))"
   ]
  },
  {
   "cell_type": "code",
   "execution_count": null,
   "metadata": {},
   "outputs": [],
   "source": []
  },
  {
   "cell_type": "code",
   "execution_count": null,
   "metadata": {},
   "outputs": [],
   "source": []
  },
  {
   "cell_type": "code",
   "execution_count": null,
   "metadata": {},
   "outputs": [],
   "source": []
  },
  {
   "cell_type": "code",
   "execution_count": null,
   "metadata": {},
   "outputs": [],
   "source": []
  },
  {
   "cell_type": "code",
   "execution_count": null,
   "metadata": {},
   "outputs": [],
   "source": []
  },
  {
   "cell_type": "code",
   "execution_count": null,
   "metadata": {},
   "outputs": [],
   "source": []
  },
  {
   "cell_type": "code",
   "execution_count": null,
   "metadata": {},
   "outputs": [],
   "source": []
  },
  {
   "cell_type": "code",
   "execution_count": null,
   "metadata": {},
   "outputs": [],
   "source": []
  },
  {
   "cell_type": "code",
   "execution_count": null,
   "metadata": {},
   "outputs": [],
   "source": []
  },
  {
   "cell_type": "code",
   "execution_count": null,
   "metadata": {},
   "outputs": [],
   "source": []
  },
  {
   "cell_type": "code",
   "execution_count": null,
   "metadata": {},
   "outputs": [],
   "source": []
  },
  {
   "cell_type": "code",
   "execution_count": null,
   "metadata": {},
   "outputs": [],
   "source": []
  },
  {
   "cell_type": "code",
   "execution_count": null,
   "metadata": {},
   "outputs": [],
   "source": []
  },
  {
   "cell_type": "code",
   "execution_count": null,
   "metadata": {},
   "outputs": [],
   "source": []
  }
 ],
 "metadata": {
  "kernelspec": {
   "display_name": "Python 3",
   "language": "python",
   "name": "python3"
  },
  "language_info": {
   "codemirror_mode": {
    "name": "ipython",
    "version": 3
   },
   "file_extension": ".py",
   "mimetype": "text/x-python",
   "name": "python",
   "nbconvert_exporter": "python",
   "pygments_lexer": "ipython3",
   "version": "3.6.4"
  }
 },
 "nbformat": 4,
 "nbformat_minor": 2
}
