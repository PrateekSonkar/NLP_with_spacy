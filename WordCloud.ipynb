{
 "cells": [
  {
   "cell_type": "code",
   "execution_count": 1,
   "metadata": {},
   "outputs": [],
   "source": [
    "import spacy\n",
    "nlp = spacy.load(\"en\")\n",
    "import pandas as pd\n",
    "import numpy as np\n",
    "import re"
   ]
  },
  {
   "cell_type": "code",
   "execution_count": 2,
   "metadata": {},
   "outputs": [],
   "source": [
    "#import json\n",
    "#import pandas as pd\n",
    "#from pandas.io.json import json_normalize # #package for flattening json in pandas df\n",
    "#load json object\n",
    "#with open('stree_comment.json') as f:\n",
    "#    d = json.load(f)\n",
    "    \n",
    "#lets put the data into a pandas df\n",
    "#clicking on raw_nyc_phil.json under \"Input Files\"\n",
    "#tells us parent node is 'programs'\n",
    "#nycphil = json_normalize(d)\n",
    "#nycphil.head(3)\n",
    "df = pd.read_csv(\"stree_comment.csv\")"
   ]
  },
  {
   "cell_type": "code",
   "execution_count": 3,
   "metadata": {},
   "outputs": [
    {
     "data": {
      "text/html": [
       "<div>\n",
       "<style scoped>\n",
       "    .dataframe tbody tr th:only-of-type {\n",
       "        vertical-align: middle;\n",
       "    }\n",
       "\n",
       "    .dataframe tbody tr th {\n",
       "        vertical-align: top;\n",
       "    }\n",
       "\n",
       "    .dataframe thead th {\n",
       "        text-align: right;\n",
       "    }\n",
       "</style>\n",
       "<table border=\"1\" class=\"dataframe\">\n",
       "  <thead>\n",
       "    <tr style=\"text-align: right;\">\n",
       "      <th></th>\n",
       "      <th>Unnamed: 0</th>\n",
       "      <th>comment</th>\n",
       "      <th>helpfulness</th>\n",
       "      <th>out_of</th>\n",
       "      <th>rated</th>\n",
       "      <th>title</th>\n",
       "      <th>userid</th>\n",
       "    </tr>\n",
       "  </thead>\n",
       "  <tbody>\n",
       "    <tr>\n",
       "      <th>0</th>\n",
       "      <td>0</td>\n",
       "      <td>A very well mixture of comedy and horror. Rema...</td>\n",
       "      <td>45 out of 51 found this helpful</td>\n",
       "      <td>10.0</td>\n",
       "      <td>9.0</td>\n",
       "      <td>Must watch</td>\n",
       "      <td>rameshkumariimt</td>\n",
       "    </tr>\n",
       "    <tr>\n",
       "      <th>1</th>\n",
       "      <td>1</td>\n",
       "      <td>One of the best Indian horror comedy movie i h...</td>\n",
       "      <td>47 out of 54 found this helpful</td>\n",
       "      <td>10.0</td>\n",
       "      <td>9.0</td>\n",
       "      <td>Honest stree review</td>\n",
       "      <td>shardulneeraj</td>\n",
       "    </tr>\n",
       "    <tr>\n",
       "      <th>2</th>\n",
       "      <td>2</td>\n",
       "      <td>BEST HORROR COMEDY FILM AFTER BHOOL BHULAIYAA!...</td>\n",
       "      <td>29 out of 34 found this helpful</td>\n",
       "      <td>10.0</td>\n",
       "      <td>9.0</td>\n",
       "      <td>One of the most original movie of 2018</td>\n",
       "      <td>dpshrs</td>\n",
       "    </tr>\n",
       "    <tr>\n",
       "      <th>3</th>\n",
       "      <td>3</td>\n",
       "      <td>A zany supernatural parable that is both stron...</td>\n",
       "      <td>29 out of 34 found this helpful</td>\n",
       "      <td>10.0</td>\n",
       "      <td>10.0</td>\n",
       "      <td>Terrific In Madcap Film</td>\n",
       "      <td>nsanjay-76795</td>\n",
       "    </tr>\n",
       "    <tr>\n",
       "      <th>4</th>\n",
       "      <td>4</td>\n",
       "      <td>A very good combination of horror+comedy. Beau...</td>\n",
       "      <td>21 out of 25 found this helpful</td>\n",
       "      <td>10.0</td>\n",
       "      <td>10.0</td>\n",
       "      <td>Talent bhar bhar k</td>\n",
       "      <td>sharmaakshat-63166</td>\n",
       "    </tr>\n",
       "  </tbody>\n",
       "</table>\n",
       "</div>"
      ],
      "text/plain": [
       "   Unnamed: 0                                            comment  \\\n",
       "0           0  A very well mixture of comedy and horror. Rema...   \n",
       "1           1  One of the best Indian horror comedy movie i h...   \n",
       "2           2  BEST HORROR COMEDY FILM AFTER BHOOL BHULAIYAA!...   \n",
       "3           3  A zany supernatural parable that is both stron...   \n",
       "4           4  A very good combination of horror+comedy. Beau...   \n",
       "\n",
       "                       helpfulness  out_of  rated  \\\n",
       "0  45 out of 51 found this helpful    10.0    9.0   \n",
       "1  47 out of 54 found this helpful    10.0    9.0   \n",
       "2  29 out of 34 found this helpful    10.0    9.0   \n",
       "3  29 out of 34 found this helpful    10.0   10.0   \n",
       "4  21 out of 25 found this helpful    10.0   10.0   \n",
       "\n",
       "                                    title              userid  \n",
       "0                              Must watch     rameshkumariimt  \n",
       "1                     Honest stree review       shardulneeraj  \n",
       "2  One of the most original movie of 2018              dpshrs  \n",
       "3                 Terrific In Madcap Film       nsanjay-76795  \n",
       "4                      Talent bhar bhar k  sharmaakshat-63166  "
      ]
     },
     "execution_count": 3,
     "metadata": {},
     "output_type": "execute_result"
    }
   ],
   "source": [
    "df.head()"
   ]
  },
  {
   "cell_type": "code",
   "execution_count": 67,
   "metadata": {},
   "outputs": [],
   "source": [
    "#Tokenizing words using Spacy\n",
    "def countWordsBySpacy(sentence):\n",
    "    return len(nlp(str(sentence)))"
   ]
  },
  {
   "cell_type": "code",
   "execution_count": 69,
   "metadata": {},
   "outputs": [
    {
     "data": {
      "text/html": [
       "<div>\n",
       "<style scoped>\n",
       "    .dataframe tbody tr th:only-of-type {\n",
       "        vertical-align: middle;\n",
       "    }\n",
       "\n",
       "    .dataframe tbody tr th {\n",
       "        vertical-align: top;\n",
       "    }\n",
       "\n",
       "    .dataframe thead th {\n",
       "        text-align: right;\n",
       "    }\n",
       "</style>\n",
       "<table border=\"1\" class=\"dataframe\">\n",
       "  <thead>\n",
       "    <tr style=\"text-align: right;\">\n",
       "      <th></th>\n",
       "      <th>comment</th>\n",
       "      <th>word_count_spacy</th>\n",
       "      <th>word_count</th>\n",
       "    </tr>\n",
       "  </thead>\n",
       "  <tbody>\n",
       "    <tr>\n",
       "      <th>0</th>\n",
       "      <td>A very well mixture of comedy and horror. Rema...</td>\n",
       "      <td>33</td>\n",
       "      <td>29</td>\n",
       "    </tr>\n",
       "    <tr>\n",
       "      <th>1</th>\n",
       "      <td>One of the best Indian horror comedy movie i h...</td>\n",
       "      <td>82</td>\n",
       "      <td>75</td>\n",
       "    </tr>\n",
       "    <tr>\n",
       "      <th>2</th>\n",
       "      <td>BEST HORROR COMEDY FILM AFTER BHOOL BHULAIYAA!...</td>\n",
       "      <td>28</td>\n",
       "      <td>22</td>\n",
       "    </tr>\n",
       "    <tr>\n",
       "      <th>3</th>\n",
       "      <td>A zany supernatural parable that is both stron...</td>\n",
       "      <td>132</td>\n",
       "      <td>111</td>\n",
       "    </tr>\n",
       "    <tr>\n",
       "      <th>4</th>\n",
       "      <td>A very good combination of horror+comedy. Beau...</td>\n",
       "      <td>27</td>\n",
       "      <td>25</td>\n",
       "    </tr>\n",
       "    <tr>\n",
       "      <th>5</th>\n",
       "      <td>Complete package of Horror-comedy,superb actin...</td>\n",
       "      <td>39</td>\n",
       "      <td>30</td>\n",
       "    </tr>\n",
       "    <tr>\n",
       "      <th>6</th>\n",
       "      <td>Great works by all performers. Soundtrack too ...</td>\n",
       "      <td>9</td>\n",
       "      <td>8</td>\n",
       "    </tr>\n",
       "    <tr>\n",
       "      <th>7</th>\n",
       "      <td>For me Stree is worth watching as i have reall...</td>\n",
       "      <td>121</td>\n",
       "      <td>111</td>\n",
       "    </tr>\n",
       "    <tr>\n",
       "      <th>8</th>\n",
       "      <td>Can't really tell because both of the genre's ...</td>\n",
       "      <td>37</td>\n",
       "      <td>32</td>\n",
       "    </tr>\n",
       "    <tr>\n",
       "      <th>9</th>\n",
       "      <td>NaN</td>\n",
       "      <td>1</td>\n",
       "      <td>1</td>\n",
       "    </tr>\n",
       "  </tbody>\n",
       "</table>\n",
       "</div>"
      ],
      "text/plain": [
       "                                             comment  word_count_spacy  \\\n",
       "0  A very well mixture of comedy and horror. Rema...                33   \n",
       "1  One of the best Indian horror comedy movie i h...                82   \n",
       "2  BEST HORROR COMEDY FILM AFTER BHOOL BHULAIYAA!...                28   \n",
       "3  A zany supernatural parable that is both stron...               132   \n",
       "4  A very good combination of horror+comedy. Beau...                27   \n",
       "5  Complete package of Horror-comedy,superb actin...                39   \n",
       "6  Great works by all performers. Soundtrack too ...                 9   \n",
       "7  For me Stree is worth watching as i have reall...               121   \n",
       "8  Can't really tell because both of the genre's ...                37   \n",
       "9                                                NaN                 1   \n",
       "\n",
       "   word_count  \n",
       "0          29  \n",
       "1          75  \n",
       "2          22  \n",
       "3         111  \n",
       "4          25  \n",
       "5          30  \n",
       "6           8  \n",
       "7         111  \n",
       "8          32  \n",
       "9           1  "
      ]
     },
     "execution_count": 69,
     "metadata": {},
     "output_type": "execute_result"
    }
   ],
   "source": [
    "#Word Count in comment\n",
    "df['word_count'] = df['comment'].apply(lambda x: len(str(x).split(\" \")));\n",
    "df['word_count_spacy'] = df['comment'].apply(lambda x : countWordsBySpacy(x))\n",
    "df[['comment','word_count_spacy','word_count']].head(10)"
   ]
  },
  {
   "cell_type": "code",
   "execution_count": 71,
   "metadata": {},
   "outputs": [
    {
     "data": {
      "text/html": [
       "<div>\n",
       "<style scoped>\n",
       "    .dataframe tbody tr th:only-of-type {\n",
       "        vertical-align: middle;\n",
       "    }\n",
       "\n",
       "    .dataframe tbody tr th {\n",
       "        vertical-align: top;\n",
       "    }\n",
       "\n",
       "    .dataframe thead th {\n",
       "        text-align: right;\n",
       "    }\n",
       "</style>\n",
       "<table border=\"1\" class=\"dataframe\">\n",
       "  <thead>\n",
       "    <tr style=\"text-align: right;\">\n",
       "      <th></th>\n",
       "      <th>comment</th>\n",
       "      <th>char_count</th>\n",
       "    </tr>\n",
       "  </thead>\n",
       "  <tbody>\n",
       "    <tr>\n",
       "      <th>0</th>\n",
       "      <td>A very well mixture of comedy and horror. Rema...</td>\n",
       "      <td>156.0</td>\n",
       "    </tr>\n",
       "    <tr>\n",
       "      <th>1</th>\n",
       "      <td>One of the best Indian horror comedy movie i h...</td>\n",
       "      <td>381.0</td>\n",
       "    </tr>\n",
       "    <tr>\n",
       "      <th>2</th>\n",
       "      <td>BEST HORROR COMEDY FILM AFTER BHOOL BHULAIYAA!...</td>\n",
       "      <td>128.0</td>\n",
       "    </tr>\n",
       "    <tr>\n",
       "      <th>3</th>\n",
       "      <td>A zany supernatural parable that is both stron...</td>\n",
       "      <td>674.0</td>\n",
       "    </tr>\n",
       "    <tr>\n",
       "      <th>4</th>\n",
       "      <td>A very good combination of horror+comedy. Beau...</td>\n",
       "      <td>157.0</td>\n",
       "    </tr>\n",
       "    <tr>\n",
       "      <th>5</th>\n",
       "      <td>Complete package of Horror-comedy,superb actin...</td>\n",
       "      <td>210.0</td>\n",
       "    </tr>\n",
       "    <tr>\n",
       "      <th>6</th>\n",
       "      <td>Great works by all performers. Soundtrack too ...</td>\n",
       "      <td>50.0</td>\n",
       "    </tr>\n",
       "    <tr>\n",
       "      <th>7</th>\n",
       "      <td>For me Stree is worth watching as i have reall...</td>\n",
       "      <td>622.0</td>\n",
       "    </tr>\n",
       "    <tr>\n",
       "      <th>8</th>\n",
       "      <td>Can't really tell because both of the genre's ...</td>\n",
       "      <td>169.0</td>\n",
       "    </tr>\n",
       "    <tr>\n",
       "      <th>9</th>\n",
       "      <td>NaN</td>\n",
       "      <td>NaN</td>\n",
       "    </tr>\n",
       "  </tbody>\n",
       "</table>\n",
       "</div>"
      ],
      "text/plain": [
       "                                             comment  char_count\n",
       "0  A very well mixture of comedy and horror. Rema...       156.0\n",
       "1  One of the best Indian horror comedy movie i h...       381.0\n",
       "2  BEST HORROR COMEDY FILM AFTER BHOOL BHULAIYAA!...       128.0\n",
       "3  A zany supernatural parable that is both stron...       674.0\n",
       "4  A very good combination of horror+comedy. Beau...       157.0\n",
       "5  Complete package of Horror-comedy,superb actin...       210.0\n",
       "6  Great works by all performers. Soundtrack too ...        50.0\n",
       "7  For me Stree is worth watching as i have reall...       622.0\n",
       "8  Can't really tell because both of the genre's ...       169.0\n",
       "9                                                NaN         NaN"
      ]
     },
     "execution_count": 71,
     "metadata": {},
     "output_type": "execute_result"
    }
   ],
   "source": [
    "#Number of characters\n",
    "df['char_count'] = df['comment'].str.len()\n",
    "df[['comment', 'char_count']].head(10)"
   ]
  },
  {
   "cell_type": "code",
   "execution_count": 81,
   "metadata": {},
   "outputs": [
    {
     "data": {
      "text/html": [
       "<div>\n",
       "<style scoped>\n",
       "    .dataframe tbody tr th:only-of-type {\n",
       "        vertical-align: middle;\n",
       "    }\n",
       "\n",
       "    .dataframe tbody tr th {\n",
       "        vertical-align: top;\n",
       "    }\n",
       "\n",
       "    .dataframe thead th {\n",
       "        text-align: right;\n",
       "    }\n",
       "</style>\n",
       "<table border=\"1\" class=\"dataframe\">\n",
       "  <thead>\n",
       "    <tr style=\"text-align: right;\">\n",
       "      <th></th>\n",
       "      <th>comment</th>\n",
       "      <th>avg_word</th>\n",
       "    </tr>\n",
       "  </thead>\n",
       "  <tbody>\n",
       "    <tr>\n",
       "      <th>0</th>\n",
       "      <td>A very well mixture of comedy and horror. Rema...</td>\n",
       "      <td>4.413793</td>\n",
       "    </tr>\n",
       "    <tr>\n",
       "      <th>1</th>\n",
       "      <td>One of the best Indian horror comedy movie i h...</td>\n",
       "      <td>4.093333</td>\n",
       "    </tr>\n",
       "    <tr>\n",
       "      <th>2</th>\n",
       "      <td>BEST HORROR COMEDY FILM AFTER BHOOL BHULAIYAA!...</td>\n",
       "      <td>4.863636</td>\n",
       "    </tr>\n",
       "    <tr>\n",
       "      <th>3</th>\n",
       "      <td>A zany supernatural parable that is both stron...</td>\n",
       "      <td>5.000000</td>\n",
       "    </tr>\n",
       "    <tr>\n",
       "      <th>4</th>\n",
       "      <td>A very good combination of horror+comedy. Beau...</td>\n",
       "      <td>5.320000</td>\n",
       "    </tr>\n",
       "    <tr>\n",
       "      <th>5</th>\n",
       "      <td>Complete package of Horror-comedy,superb actin...</td>\n",
       "      <td>6.033333</td>\n",
       "    </tr>\n",
       "    <tr>\n",
       "      <th>6</th>\n",
       "      <td>Great works by all performers. Soundtrack too ...</td>\n",
       "      <td>5.375000</td>\n",
       "    </tr>\n",
       "    <tr>\n",
       "      <th>7</th>\n",
       "      <td>For me Stree is worth watching as i have reall...</td>\n",
       "      <td>4.612613</td>\n",
       "    </tr>\n",
       "    <tr>\n",
       "      <th>8</th>\n",
       "      <td>Can't really tell because both of the genre's ...</td>\n",
       "      <td>4.312500</td>\n",
       "    </tr>\n",
       "    <tr>\n",
       "      <th>9</th>\n",
       "      <td>NaN</td>\n",
       "      <td>0.000000</td>\n",
       "    </tr>\n",
       "  </tbody>\n",
       "</table>\n",
       "</div>"
      ],
      "text/plain": [
       "                                             comment  avg_word\n",
       "0  A very well mixture of comedy and horror. Rema...  4.413793\n",
       "1  One of the best Indian horror comedy movie i h...  4.093333\n",
       "2  BEST HORROR COMEDY FILM AFTER BHOOL BHULAIYAA!...  4.863636\n",
       "3  A zany supernatural parable that is both stron...  5.000000\n",
       "4  A very good combination of horror+comedy. Beau...  5.320000\n",
       "5  Complete package of Horror-comedy,superb actin...  6.033333\n",
       "6  Great works by all performers. Soundtrack too ...  5.375000\n",
       "7  For me Stree is worth watching as i have reall...  4.612613\n",
       "8  Can't really tell because both of the genre's ...  4.312500\n",
       "9                                                NaN  0.000000"
      ]
     },
     "execution_count": 81,
     "metadata": {},
     "output_type": "execute_result"
    }
   ],
   "source": [
    "#Average Word Length\n",
    "def avg_word_stats(sentence):  \n",
    "    #print(len(str(sentence)))\n",
    "    words = str(sentence).split()\n",
    "    if len(words) > 1:\n",
    "        return (sum(len(word) for word in words)/len(words))\n",
    "    else:\n",
    "        return 0\n",
    "df['avg_word'] = df['comment'].apply(lambda x: avg_word_stats(x))\n",
    "df[['comment', 'avg_word']].head(10)"
   ]
  },
  {
   "cell_type": "code",
   "execution_count": null,
   "metadata": {},
   "outputs": [],
   "source": []
  },
  {
   "cell_type": "code",
   "execution_count": null,
   "metadata": {},
   "outputs": [],
   "source": []
  },
  {
   "cell_type": "code",
   "execution_count": null,
   "metadata": {},
   "outputs": [],
   "source": []
  },
  {
   "cell_type": "code",
   "execution_count": null,
   "metadata": {},
   "outputs": [],
   "source": []
  },
  {
   "cell_type": "code",
   "execution_count": null,
   "metadata": {},
   "outputs": [],
   "source": []
  },
  {
   "cell_type": "code",
   "execution_count": 83,
   "metadata": {},
   "outputs": [],
   "source": [
    "#Number of stopwords\n",
    "from spacy.lang.en.stop_words import STOP_WORDS\n",
    "\n",
    "def countStopWords(sentence):\n",
    "    noOdStopWord = 0;\n",
    "    comment = nlp(str(sentence))\n",
    "    for word in comment:\n",
    "        if word.is_stop:\n",
    "            noOdStopWord += 1\n",
    "    return noOdStopWord\n",
    "\n",
    "df['stopword_count'] = df['comment'].apply(lambda x : countStopWords(x))\n",
    "    "
   ]
  },
  {
   "cell_type": "code",
   "execution_count": 84,
   "metadata": {},
   "outputs": [
    {
     "data": {
      "text/html": [
       "<div>\n",
       "<style scoped>\n",
       "    .dataframe tbody tr th:only-of-type {\n",
       "        vertical-align: middle;\n",
       "    }\n",
       "\n",
       "    .dataframe tbody tr th {\n",
       "        vertical-align: top;\n",
       "    }\n",
       "\n",
       "    .dataframe thead th {\n",
       "        text-align: right;\n",
       "    }\n",
       "</style>\n",
       "<table border=\"1\" class=\"dataframe\">\n",
       "  <thead>\n",
       "    <tr style=\"text-align: right;\">\n",
       "      <th></th>\n",
       "      <th>comment</th>\n",
       "      <th>word_count</th>\n",
       "      <th>stopword_count</th>\n",
       "    </tr>\n",
       "  </thead>\n",
       "  <tbody>\n",
       "    <tr>\n",
       "      <th>0</th>\n",
       "      <td>A very well mixture of comedy and horror. Rema...</td>\n",
       "      <td>29</td>\n",
       "      <td>14</td>\n",
       "    </tr>\n",
       "    <tr>\n",
       "      <th>1</th>\n",
       "      <td>One of the best Indian horror comedy movie i h...</td>\n",
       "      <td>75</td>\n",
       "      <td>40</td>\n",
       "    </tr>\n",
       "    <tr>\n",
       "      <th>2</th>\n",
       "      <td>BEST HORROR COMEDY FILM AFTER BHOOL BHULAIYAA!...</td>\n",
       "      <td>22</td>\n",
       "      <td>10</td>\n",
       "    </tr>\n",
       "    <tr>\n",
       "      <th>3</th>\n",
       "      <td>A zany supernatural parable that is both stron...</td>\n",
       "      <td>111</td>\n",
       "      <td>49</td>\n",
       "    </tr>\n",
       "    <tr>\n",
       "      <th>4</th>\n",
       "      <td>A very good combination of horror+comedy. Beau...</td>\n",
       "      <td>25</td>\n",
       "      <td>9</td>\n",
       "    </tr>\n",
       "    <tr>\n",
       "      <th>5</th>\n",
       "      <td>Complete package of Horror-comedy,superb actin...</td>\n",
       "      <td>30</td>\n",
       "      <td>12</td>\n",
       "    </tr>\n",
       "    <tr>\n",
       "      <th>6</th>\n",
       "      <td>Great works by all performers. Soundtrack too ...</td>\n",
       "      <td>8</td>\n",
       "      <td>3</td>\n",
       "    </tr>\n",
       "    <tr>\n",
       "      <th>7</th>\n",
       "      <td>For me Stree is worth watching as i have reall...</td>\n",
       "      <td>111</td>\n",
       "      <td>64</td>\n",
       "    </tr>\n",
       "    <tr>\n",
       "      <th>8</th>\n",
       "      <td>Can't really tell because both of the genre's ...</td>\n",
       "      <td>32</td>\n",
       "      <td>18</td>\n",
       "    </tr>\n",
       "    <tr>\n",
       "      <th>9</th>\n",
       "      <td>NaN</td>\n",
       "      <td>1</td>\n",
       "      <td>0</td>\n",
       "    </tr>\n",
       "  </tbody>\n",
       "</table>\n",
       "</div>"
      ],
      "text/plain": [
       "                                             comment  word_count  \\\n",
       "0  A very well mixture of comedy and horror. Rema...          29   \n",
       "1  One of the best Indian horror comedy movie i h...          75   \n",
       "2  BEST HORROR COMEDY FILM AFTER BHOOL BHULAIYAA!...          22   \n",
       "3  A zany supernatural parable that is both stron...         111   \n",
       "4  A very good combination of horror+comedy. Beau...          25   \n",
       "5  Complete package of Horror-comedy,superb actin...          30   \n",
       "6  Great works by all performers. Soundtrack too ...           8   \n",
       "7  For me Stree is worth watching as i have reall...         111   \n",
       "8  Can't really tell because both of the genre's ...          32   \n",
       "9                                                NaN           1   \n",
       "\n",
       "   stopword_count  \n",
       "0              14  \n",
       "1              40  \n",
       "2              10  \n",
       "3              49  \n",
       "4               9  \n",
       "5              12  \n",
       "6               3  \n",
       "7              64  \n",
       "8              18  \n",
       "9               0  "
      ]
     },
     "execution_count": 84,
     "metadata": {},
     "output_type": "execute_result"
    }
   ],
   "source": [
    "df[['comment', 'word_count', 'stopword_count']].head(10)"
   ]
  },
  {
   "cell_type": "code",
   "execution_count": 85,
   "metadata": {},
   "outputs": [
    {
     "data": {
      "text/plain": [
       "2"
      ]
     },
     "execution_count": 85,
     "metadata": {},
     "output_type": "execute_result"
    }
   ],
   "source": [
    "regex  = re.compile(r\"[!\\\"#$%&'()*+,-./:;<=>?@[\\]^_`{|}~]\")\n",
    "match = regex.findall(\"nature 09 i9s 91 #awesome #india\")\n",
    "len(match)"
   ]
  },
  {
   "cell_type": "code",
   "execution_count": 88,
   "metadata": {},
   "outputs": [],
   "source": [
    "def countSpecialChar(sentence):\n",
    "    regex  = re.compile(r\"[!\\\"#$%&'()*+,-./:;<=>?@[\\]^_`{|}~]\")\n",
    "    return len(regex.findall(str(sentence)))"
   ]
  },
  {
   "cell_type": "code",
   "execution_count": 89,
   "metadata": {},
   "outputs": [],
   "source": [
    "df['specialchar_count'] = df['comment'].apply(lambda x : countSpecialChar(x))"
   ]
  },
  {
   "cell_type": "code",
   "execution_count": 90,
   "metadata": {},
   "outputs": [
    {
     "data": {
      "text/html": [
       "<div>\n",
       "<style scoped>\n",
       "    .dataframe tbody tr th:only-of-type {\n",
       "        vertical-align: middle;\n",
       "    }\n",
       "\n",
       "    .dataframe tbody tr th {\n",
       "        vertical-align: top;\n",
       "    }\n",
       "\n",
       "    .dataframe thead th {\n",
       "        text-align: right;\n",
       "    }\n",
       "</style>\n",
       "<table border=\"1\" class=\"dataframe\">\n",
       "  <thead>\n",
       "    <tr style=\"text-align: right;\">\n",
       "      <th></th>\n",
       "      <th>comment</th>\n",
       "      <th>word_count</th>\n",
       "      <th>stopword_count</th>\n",
       "      <th>specialchar_count</th>\n",
       "    </tr>\n",
       "  </thead>\n",
       "  <tbody>\n",
       "    <tr>\n",
       "      <th>0</th>\n",
       "      <td>A very well mixture of comedy and horror. Rema...</td>\n",
       "      <td>29</td>\n",
       "      <td>14</td>\n",
       "      <td>4</td>\n",
       "    </tr>\n",
       "    <tr>\n",
       "      <th>1</th>\n",
       "      <td>One of the best Indian horror comedy movie i h...</td>\n",
       "      <td>75</td>\n",
       "      <td>40</td>\n",
       "      <td>13</td>\n",
       "    </tr>\n",
       "    <tr>\n",
       "      <th>2</th>\n",
       "      <td>BEST HORROR COMEDY FILM AFTER BHOOL BHULAIYAA!...</td>\n",
       "      <td>22</td>\n",
       "      <td>10</td>\n",
       "      <td>8</td>\n",
       "    </tr>\n",
       "    <tr>\n",
       "      <th>3</th>\n",
       "      <td>A zany supernatural parable that is both stron...</td>\n",
       "      <td>111</td>\n",
       "      <td>49</td>\n",
       "      <td>18</td>\n",
       "    </tr>\n",
       "    <tr>\n",
       "      <th>4</th>\n",
       "      <td>A very good combination of horror+comedy. Beau...</td>\n",
       "      <td>25</td>\n",
       "      <td>9</td>\n",
       "      <td>3</td>\n",
       "    </tr>\n",
       "    <tr>\n",
       "      <th>5</th>\n",
       "      <td>Complete package of Horror-comedy,superb actin...</td>\n",
       "      <td>30</td>\n",
       "      <td>12</td>\n",
       "      <td>6</td>\n",
       "    </tr>\n",
       "    <tr>\n",
       "      <th>6</th>\n",
       "      <td>Great works by all performers. Soundtrack too ...</td>\n",
       "      <td>8</td>\n",
       "      <td>3</td>\n",
       "      <td>1</td>\n",
       "    </tr>\n",
       "    <tr>\n",
       "      <th>7</th>\n",
       "      <td>For me Stree is worth watching as i have reall...</td>\n",
       "      <td>111</td>\n",
       "      <td>64</td>\n",
       "      <td>6</td>\n",
       "    </tr>\n",
       "    <tr>\n",
       "      <th>8</th>\n",
       "      <td>Can't really tell because both of the genre's ...</td>\n",
       "      <td>32</td>\n",
       "      <td>18</td>\n",
       "      <td>5</td>\n",
       "    </tr>\n",
       "    <tr>\n",
       "      <th>9</th>\n",
       "      <td>NaN</td>\n",
       "      <td>1</td>\n",
       "      <td>0</td>\n",
       "      <td>0</td>\n",
       "    </tr>\n",
       "  </tbody>\n",
       "</table>\n",
       "</div>"
      ],
      "text/plain": [
       "                                             comment  word_count  \\\n",
       "0  A very well mixture of comedy and horror. Rema...          29   \n",
       "1  One of the best Indian horror comedy movie i h...          75   \n",
       "2  BEST HORROR COMEDY FILM AFTER BHOOL BHULAIYAA!...          22   \n",
       "3  A zany supernatural parable that is both stron...         111   \n",
       "4  A very good combination of horror+comedy. Beau...          25   \n",
       "5  Complete package of Horror-comedy,superb actin...          30   \n",
       "6  Great works by all performers. Soundtrack too ...           8   \n",
       "7  For me Stree is worth watching as i have reall...         111   \n",
       "8  Can't really tell because both of the genre's ...          32   \n",
       "9                                                NaN           1   \n",
       "\n",
       "   stopword_count  specialchar_count  \n",
       "0              14                  4  \n",
       "1              40                 13  \n",
       "2              10                  8  \n",
       "3              49                 18  \n",
       "4               9                  3  \n",
       "5              12                  6  \n",
       "6               3                  1  \n",
       "7              64                  6  \n",
       "8              18                  5  \n",
       "9               0                  0  "
      ]
     },
     "execution_count": 90,
     "metadata": {},
     "output_type": "execute_result"
    }
   ],
   "source": [
    "df[['comment', 'word_count', 'stopword_count','specialchar_count']].head(10)"
   ]
  },
  {
   "cell_type": "code",
   "execution_count": 91,
   "metadata": {},
   "outputs": [],
   "source": [
    "#Number of numerics\n",
    "def countNumericAllValue(sentence):\n",
    "    regex  = re.compile(r\"[0-9]\")\n",
    "    return len(regex.findall(str(sentence)))"
   ]
  },
  {
   "cell_type": "code",
   "execution_count": 92,
   "metadata": {},
   "outputs": [],
   "source": [
    "df['allnumber_count'] = df['comment'].apply(lambda x : countNumericAllValue(x))"
   ]
  },
  {
   "cell_type": "code",
   "execution_count": 93,
   "metadata": {},
   "outputs": [
    {
     "data": {
      "text/html": [
       "<div>\n",
       "<style scoped>\n",
       "    .dataframe tbody tr th:only-of-type {\n",
       "        vertical-align: middle;\n",
       "    }\n",
       "\n",
       "    .dataframe tbody tr th {\n",
       "        vertical-align: top;\n",
       "    }\n",
       "\n",
       "    .dataframe thead th {\n",
       "        text-align: right;\n",
       "    }\n",
       "</style>\n",
       "<table border=\"1\" class=\"dataframe\">\n",
       "  <thead>\n",
       "    <tr style=\"text-align: right;\">\n",
       "      <th></th>\n",
       "      <th>comment</th>\n",
       "      <th>stopword_count</th>\n",
       "      <th>specialchar_count</th>\n",
       "      <th>allnumber_count</th>\n",
       "    </tr>\n",
       "  </thead>\n",
       "  <tbody>\n",
       "    <tr>\n",
       "      <th>0</th>\n",
       "      <td>A very well mixture of comedy and horror. Rema...</td>\n",
       "      <td>14</td>\n",
       "      <td>4</td>\n",
       "      <td>0</td>\n",
       "    </tr>\n",
       "    <tr>\n",
       "      <th>1</th>\n",
       "      <td>One of the best Indian horror comedy movie i h...</td>\n",
       "      <td>40</td>\n",
       "      <td>13</td>\n",
       "      <td>3</td>\n",
       "    </tr>\n",
       "    <tr>\n",
       "      <th>2</th>\n",
       "      <td>BEST HORROR COMEDY FILM AFTER BHOOL BHULAIYAA!...</td>\n",
       "      <td>10</td>\n",
       "      <td>8</td>\n",
       "      <td>0</td>\n",
       "    </tr>\n",
       "    <tr>\n",
       "      <th>3</th>\n",
       "      <td>A zany supernatural parable that is both stron...</td>\n",
       "      <td>49</td>\n",
       "      <td>18</td>\n",
       "      <td>0</td>\n",
       "    </tr>\n",
       "    <tr>\n",
       "      <th>4</th>\n",
       "      <td>A very good combination of horror+comedy. Beau...</td>\n",
       "      <td>9</td>\n",
       "      <td>3</td>\n",
       "      <td>0</td>\n",
       "    </tr>\n",
       "    <tr>\n",
       "      <th>5</th>\n",
       "      <td>Complete package of Horror-comedy,superb actin...</td>\n",
       "      <td>12</td>\n",
       "      <td>6</td>\n",
       "      <td>0</td>\n",
       "    </tr>\n",
       "    <tr>\n",
       "      <th>6</th>\n",
       "      <td>Great works by all performers. Soundtrack too ...</td>\n",
       "      <td>3</td>\n",
       "      <td>1</td>\n",
       "      <td>0</td>\n",
       "    </tr>\n",
       "    <tr>\n",
       "      <th>7</th>\n",
       "      <td>For me Stree is worth watching as i have reall...</td>\n",
       "      <td>64</td>\n",
       "      <td>6</td>\n",
       "      <td>0</td>\n",
       "    </tr>\n",
       "    <tr>\n",
       "      <th>8</th>\n",
       "      <td>Can't really tell because both of the genre's ...</td>\n",
       "      <td>18</td>\n",
       "      <td>5</td>\n",
       "      <td>0</td>\n",
       "    </tr>\n",
       "    <tr>\n",
       "      <th>9</th>\n",
       "      <td>NaN</td>\n",
       "      <td>0</td>\n",
       "      <td>0</td>\n",
       "      <td>0</td>\n",
       "    </tr>\n",
       "  </tbody>\n",
       "</table>\n",
       "</div>"
      ],
      "text/plain": [
       "                                             comment  stopword_count  \\\n",
       "0  A very well mixture of comedy and horror. Rema...              14   \n",
       "1  One of the best Indian horror comedy movie i h...              40   \n",
       "2  BEST HORROR COMEDY FILM AFTER BHOOL BHULAIYAA!...              10   \n",
       "3  A zany supernatural parable that is both stron...              49   \n",
       "4  A very good combination of horror+comedy. Beau...               9   \n",
       "5  Complete package of Horror-comedy,superb actin...              12   \n",
       "6  Great works by all performers. Soundtrack too ...               3   \n",
       "7  For me Stree is worth watching as i have reall...              64   \n",
       "8  Can't really tell because both of the genre's ...              18   \n",
       "9                                                NaN               0   \n",
       "\n",
       "   specialchar_count  allnumber_count  \n",
       "0                  4                0  \n",
       "1                 13                3  \n",
       "2                  8                0  \n",
       "3                 18                0  \n",
       "4                  3                0  \n",
       "5                  6                0  \n",
       "6                  1                0  \n",
       "7                  6                0  \n",
       "8                  5                0  \n",
       "9                  0                0  "
      ]
     },
     "execution_count": 93,
     "metadata": {},
     "output_type": "execute_result"
    }
   ],
   "source": [
    "df[['comment', 'stopword_count','specialchar_count', 'allnumber_count']].head(10)"
   ]
  },
  {
   "cell_type": "code",
   "execution_count": 98,
   "metadata": {},
   "outputs": [
    {
     "data": {
      "text/plain": [
       "'A very well mixture of comedy and horror. Remarkable acting of all actors. I had to close my eyes at some point in the movie. Full package of entertainment.'"
      ]
     },
     "execution_count": 98,
     "metadata": {},
     "output_type": "execute_result"
    }
   ],
   "source": [
    "df['comment'][0]"
   ]
  },
  {
   "cell_type": "code",
   "execution_count": 95,
   "metadata": {},
   "outputs": [],
   "source": [
    " #Number of Uppercase words    \n",
    "def countUpperCase(sentence):\n",
    "    regex  = re.compile(r\"[A-Z]\")\n",
    "    return len(regex.findall(str(sentence)))\n",
    "df['uppercase_count'] = df['comment'].apply(lambda x : countUpperCase(x))"
   ]
  },
  {
   "cell_type": "code",
   "execution_count": 96,
   "metadata": {},
   "outputs": [
    {
     "data": {
      "text/html": [
       "<div>\n",
       "<style scoped>\n",
       "    .dataframe tbody tr th:only-of-type {\n",
       "        vertical-align: middle;\n",
       "    }\n",
       "\n",
       "    .dataframe tbody tr th {\n",
       "        vertical-align: top;\n",
       "    }\n",
       "\n",
       "    .dataframe thead th {\n",
       "        text-align: right;\n",
       "    }\n",
       "</style>\n",
       "<table border=\"1\" class=\"dataframe\">\n",
       "  <thead>\n",
       "    <tr style=\"text-align: right;\">\n",
       "      <th></th>\n",
       "      <th>comment</th>\n",
       "      <th>uppercase_count</th>\n",
       "      <th>specialchar_count</th>\n",
       "      <th>allnumber_count</th>\n",
       "    </tr>\n",
       "  </thead>\n",
       "  <tbody>\n",
       "    <tr>\n",
       "      <th>0</th>\n",
       "      <td>A very well mixture of comedy and horror. Rema...</td>\n",
       "      <td>4</td>\n",
       "      <td>4</td>\n",
       "      <td>0</td>\n",
       "    </tr>\n",
       "    <tr>\n",
       "      <th>1</th>\n",
       "      <td>One of the best Indian horror comedy movie i h...</td>\n",
       "      <td>4</td>\n",
       "      <td>13</td>\n",
       "      <td>3</td>\n",
       "    </tr>\n",
       "    <tr>\n",
       "      <th>2</th>\n",
       "      <td>BEST HORROR COMEDY FILM AFTER BHOOL BHULAIYAA!...</td>\n",
       "      <td>40</td>\n",
       "      <td>8</td>\n",
       "      <td>0</td>\n",
       "    </tr>\n",
       "    <tr>\n",
       "      <th>3</th>\n",
       "      <td>A zany supernatural parable that is both stron...</td>\n",
       "      <td>6</td>\n",
       "      <td>18</td>\n",
       "      <td>0</td>\n",
       "    </tr>\n",
       "    <tr>\n",
       "      <th>4</th>\n",
       "      <td>A very good combination of horror+comedy. Beau...</td>\n",
       "      <td>4</td>\n",
       "      <td>3</td>\n",
       "      <td>0</td>\n",
       "    </tr>\n",
       "    <tr>\n",
       "      <th>5</th>\n",
       "      <td>Complete package of Horror-comedy,superb actin...</td>\n",
       "      <td>4</td>\n",
       "      <td>6</td>\n",
       "      <td>0</td>\n",
       "    </tr>\n",
       "    <tr>\n",
       "      <th>6</th>\n",
       "      <td>Great works by all performers. Soundtrack too ...</td>\n",
       "      <td>2</td>\n",
       "      <td>1</td>\n",
       "      <td>0</td>\n",
       "    </tr>\n",
       "    <tr>\n",
       "      <th>7</th>\n",
       "      <td>For me Stree is worth watching as i have reall...</td>\n",
       "      <td>16</td>\n",
       "      <td>6</td>\n",
       "      <td>0</td>\n",
       "    </tr>\n",
       "    <tr>\n",
       "      <th>8</th>\n",
       "      <td>Can't really tell because both of the genre's ...</td>\n",
       "      <td>3</td>\n",
       "      <td>5</td>\n",
       "      <td>0</td>\n",
       "    </tr>\n",
       "    <tr>\n",
       "      <th>9</th>\n",
       "      <td>NaN</td>\n",
       "      <td>0</td>\n",
       "      <td>0</td>\n",
       "      <td>0</td>\n",
       "    </tr>\n",
       "  </tbody>\n",
       "</table>\n",
       "</div>"
      ],
      "text/plain": [
       "                                             comment  uppercase_count  \\\n",
       "0  A very well mixture of comedy and horror. Rema...                4   \n",
       "1  One of the best Indian horror comedy movie i h...                4   \n",
       "2  BEST HORROR COMEDY FILM AFTER BHOOL BHULAIYAA!...               40   \n",
       "3  A zany supernatural parable that is both stron...                6   \n",
       "4  A very good combination of horror+comedy. Beau...                4   \n",
       "5  Complete package of Horror-comedy,superb actin...                4   \n",
       "6  Great works by all performers. Soundtrack too ...                2   \n",
       "7  For me Stree is worth watching as i have reall...               16   \n",
       "8  Can't really tell because both of the genre's ...                3   \n",
       "9                                                NaN                0   \n",
       "\n",
       "   specialchar_count  allnumber_count  \n",
       "0                  4                0  \n",
       "1                 13                3  \n",
       "2                  8                0  \n",
       "3                 18                0  \n",
       "4                  3                0  \n",
       "5                  6                0  \n",
       "6                  1                0  \n",
       "7                  6                0  \n",
       "8                  5                0  \n",
       "9                  0                0  "
      ]
     },
     "execution_count": 96,
     "metadata": {},
     "output_type": "execute_result"
    }
   ],
   "source": [
    "df[['comment', 'uppercase_count','specialchar_count', 'allnumber_count']].head(10)"
   ]
  },
  {
   "cell_type": "markdown",
   "metadata": {},
   "source": [
    " ###Basic Pre-processing"
   ]
  },
  {
   "cell_type": "code",
   "execution_count": 103,
   "metadata": {
    "scrolled": true
   },
   "outputs": [
    {
     "data": {
      "text/html": [
       "<div>\n",
       "<style scoped>\n",
       "    .dataframe tbody tr th:only-of-type {\n",
       "        vertical-align: middle;\n",
       "    }\n",
       "\n",
       "    .dataframe tbody tr th {\n",
       "        vertical-align: top;\n",
       "    }\n",
       "\n",
       "    .dataframe thead th {\n",
       "        text-align: right;\n",
       "    }\n",
       "</style>\n",
       "<table border=\"1\" class=\"dataframe\">\n",
       "  <thead>\n",
       "    <tr style=\"text-align: right;\">\n",
       "      <th></th>\n",
       "      <th>comment_tolower</th>\n",
       "      <th>comment</th>\n",
       "    </tr>\n",
       "  </thead>\n",
       "  <tbody>\n",
       "    <tr>\n",
       "      <th>0</th>\n",
       "      <td>a very well mixture of comedy and horror . rem...</td>\n",
       "      <td>A very well mixture of comedy and horror. Rema...</td>\n",
       "    </tr>\n",
       "    <tr>\n",
       "      <th>1</th>\n",
       "      <td>one of the best indian horror comedy movie i h...</td>\n",
       "      <td>One of the best Indian horror comedy movie i h...</td>\n",
       "    </tr>\n",
       "    <tr>\n",
       "      <th>2</th>\n",
       "      <td>best horror comedy film after bhool bhulaiyaa ...</td>\n",
       "      <td>BEST HORROR COMEDY FILM AFTER BHOOL BHULAIYAA!...</td>\n",
       "    </tr>\n",
       "    <tr>\n",
       "      <th>3</th>\n",
       "      <td>a zany supernatural parable that is both stron...</td>\n",
       "      <td>A zany supernatural parable that is both stron...</td>\n",
       "    </tr>\n",
       "    <tr>\n",
       "      <th>4</th>\n",
       "      <td>a very good combination of horror+comedy . bea...</td>\n",
       "      <td>A very good combination of horror+comedy. Beau...</td>\n",
       "    </tr>\n",
       "    <tr>\n",
       "      <th>5</th>\n",
       "      <td>complete package of horror - comedy , superb a...</td>\n",
       "      <td>Complete package of Horror-comedy,superb actin...</td>\n",
       "    </tr>\n",
       "    <tr>\n",
       "      <th>6</th>\n",
       "      <td>great works by all performers . soundtrack too...</td>\n",
       "      <td>Great works by all performers. Soundtrack too ...</td>\n",
       "    </tr>\n",
       "    <tr>\n",
       "      <th>7</th>\n",
       "      <td>for me stree is worth watching as i have reall...</td>\n",
       "      <td>For me Stree is worth watching as i have reall...</td>\n",
       "    </tr>\n",
       "    <tr>\n",
       "      <th>8</th>\n",
       "      <td>ca n't really tell because both of the genre '...</td>\n",
       "      <td>Can't really tell because both of the genre's ...</td>\n",
       "    </tr>\n",
       "    <tr>\n",
       "      <th>9</th>\n",
       "      <td>nan</td>\n",
       "      <td>NaN</td>\n",
       "    </tr>\n",
       "  </tbody>\n",
       "</table>\n",
       "</div>"
      ],
      "text/plain": [
       "                                     comment_tolower  \\\n",
       "0  a very well mixture of comedy and horror . rem...   \n",
       "1  one of the best indian horror comedy movie i h...   \n",
       "2  best horror comedy film after bhool bhulaiyaa ...   \n",
       "3  a zany supernatural parable that is both stron...   \n",
       "4  a very good combination of horror+comedy . bea...   \n",
       "5  complete package of horror - comedy , superb a...   \n",
       "6  great works by all performers . soundtrack too...   \n",
       "7  for me stree is worth watching as i have reall...   \n",
       "8  ca n't really tell because both of the genre '...   \n",
       "9                                                nan   \n",
       "\n",
       "                                             comment  \n",
       "0  A very well mixture of comedy and horror. Rema...  \n",
       "1  One of the best Indian horror comedy movie i h...  \n",
       "2  BEST HORROR COMEDY FILM AFTER BHOOL BHULAIYAA!...  \n",
       "3  A zany supernatural parable that is both stron...  \n",
       "4  A very good combination of horror+comedy. Beau...  \n",
       "5  Complete package of Horror-comedy,superb actin...  \n",
       "6  Great works by all performers. Soundtrack too ...  \n",
       "7  For me Stree is worth watching as i have reall...  \n",
       "8  Can't really tell because both of the genre's ...  \n",
       "9                                                NaN  "
      ]
     },
     "execution_count": 103,
     "metadata": {},
     "output_type": "execute_result"
    }
   ],
   "source": [
    "# to lowercase\n",
    "def toLowerCase(sentences):\n",
    "    tokens = nlp(str(sentences))\n",
    "    return \" \".join(token.text.lower() for token in tokens)\n",
    "\n",
    "df['comment_tolower'] = df['comment'].apply(lambda x: toLowerCase(x))\n",
    "df[['comment_tolower', 'comment']].head(10)"
   ]
  },
  {
   "cell_type": "code",
   "execution_count": 115,
   "metadata": {},
   "outputs": [],
   "source": [
    "def removePunctuations(sentences):\n",
    "    tokens = nlp(str(sentences))\n",
    "    return \" \".join([token.text for token in tokens if token.is_punct == False])\n",
    "    #for token in tokens:\n",
    "     #   if token.is_punct == False:\n",
    "     #       print(token)"
   ]
  },
  {
   "cell_type": "code",
   "execution_count": 106,
   "metadata": {},
   "outputs": [
    {
     "data": {
      "text/plain": [
       "'A very well mixture of comedy and horror. Remarkable acting of all actors. I had to close my eyes at some point in the movie. Full package of entertainment.'"
      ]
     },
     "execution_count": 106,
     "metadata": {},
     "output_type": "execute_result"
    }
   ],
   "source": [
    "df['comment'][0]"
   ]
  },
  {
   "cell_type": "code",
   "execution_count": 116,
   "metadata": {},
   "outputs": [
    {
     "data": {
      "text/plain": [
       "'A very well mixture of comedy and horror Remarkable acting of all actors I had to close my eyes at some point in the movie Full package of entertainment'"
      ]
     },
     "execution_count": 116,
     "metadata": {},
     "output_type": "execute_result"
    }
   ],
   "source": [
    "removePunctuations(df['comment'][0])"
   ]
  },
  {
   "cell_type": "code",
   "execution_count": null,
   "metadata": {},
   "outputs": [],
   "source": []
  },
  {
   "cell_type": "code",
   "execution_count": null,
   "metadata": {},
   "outputs": [],
   "source": []
  },
  {
   "cell_type": "code",
   "execution_count": null,
   "metadata": {},
   "outputs": [],
   "source": []
  },
  {
   "cell_type": "code",
   "execution_count": null,
   "metadata": {},
   "outputs": [],
   "source": []
  },
  {
   "cell_type": "code",
   "execution_count": 6,
   "metadata": {},
   "outputs": [],
   "source": [
    "#doc = nlp(df['comment'][0])"
   ]
  },
  {
   "cell_type": "code",
   "execution_count": 7,
   "metadata": {},
   "outputs": [
    {
     "data": {
      "text/plain": [
       "1.0000001204829292"
      ]
     },
     "execution_count": 7,
     "metadata": {},
     "output_type": "execute_result"
    }
   ],
   "source": [
    "#simillarity\n",
    "#list(doc.sents)[0].similarity(list(doc.sents)[0])"
   ]
  },
  {
   "cell_type": "code",
   "execution_count": 8,
   "metadata": {},
   "outputs": [],
   "source": [
    "#ents = list(doc.ents)"
   ]
  },
  {
   "cell_type": "code",
   "execution_count": 9,
   "metadata": {},
   "outputs": [],
   "source": [
    "#doc = nlp(df['comment'][0])"
   ]
  },
  {
   "cell_type": "code",
   "execution_count": 10,
   "metadata": {},
   "outputs": [],
   "source": [
    "#for token in doc:\n",
    "#    print(token.text, token.pos_, token.dep_)"
   ]
  },
  {
   "cell_type": "code",
   "execution_count": 11,
   "metadata": {},
   "outputs": [
    {
     "name": "stdout",
     "output_type": "stream",
     "text": [
      "A a DET DT det X True False\n",
      "very very ADV RB advmod xxxx True True\n",
      "well well ADV RB amod xxxx True True\n",
      "mixture mixture NOUN NN ROOT xxxx True False\n",
      "of of ADP IN prep xx True True\n",
      "comedy comedy NOUN NN pobj xxxx True False\n",
      "and and CCONJ CC cc xxx True True\n",
      "horror horror NOUN NN conj xxxx True False\n",
      ". . PUNCT . punct . False False\n",
      "Remarkable remarkable ADJ JJ amod Xxxxx True False\n",
      "acting acting NOUN NN ROOT xxxx True False\n",
      "of of ADP IN prep xx True True\n",
      "all all DET DT det xxx True True\n",
      "actors actor NOUN NNS pobj xxxx True False\n",
      ". . PUNCT . punct . False False\n",
      "I -PRON- PRON PRP nsubj X True False\n",
      "had have VERB VBD ROOT xxx True True\n",
      "to to PART TO aux xx True True\n",
      "close close VERB VB xcomp xxxx True False\n",
      "my -PRON- ADJ PRP$ poss xx True True\n",
      "eyes eye NOUN NNS dobj xxxx True False\n",
      "at at ADP IN prep xx True True\n",
      "some some DET DT det xxxx True True\n",
      "point point NOUN NN pobj xxxx True False\n",
      "in in ADP IN prep xx True True\n",
      "the the DET DT det xxx True True\n",
      "movie movie NOUN NN pobj xxxx True False\n",
      ". . PUNCT . punct . False False\n",
      "Full full ADJ JJ amod Xxxx True False\n",
      "package package NOUN NN ROOT xxxx True False\n",
      "of of ADP IN prep xx True True\n",
      "entertainment entertainment NOUN NN pobj xxxx True False\n",
      ". . PUNCT . punct . False False\n"
     ]
    }
   ],
   "source": [
    "#for token in doc:\n",
    "#    print(token.text, token.lemma_, token.pos_, token.tag_, token.dep_,\n",
    "#          token.shape_, token.is_alpha, token.is_stop)"
   ]
  },
  {
   "cell_type": "code",
   "execution_count": 12,
   "metadata": {},
   "outputs": [],
   "source": [
    "#f = open('only_comments.txt', \"r\",encoding='utf8')\n",
    "#lines = f.readlines()\n",
    "#f.close()\n",
    "#print(lines)"
   ]
  },
  {
   "cell_type": "code",
   "execution_count": 38,
   "metadata": {},
   "outputs": [],
   "source": [
    "comments_list = df['comment'].tolist()"
   ]
  },
  {
   "cell_type": "code",
   "execution_count": 39,
   "metadata": {},
   "outputs": [
    {
     "data": {
      "text/plain": [
       "395"
      ]
     },
     "execution_count": 39,
     "metadata": {},
     "output_type": "execute_result"
    }
   ],
   "source": [
    "len(comments_list)"
   ]
  },
  {
   "cell_type": "code",
   "execution_count": 40,
   "metadata": {},
   "outputs": [],
   "source": [
    "comments_string = ''.join(comments_list)"
   ]
  },
  {
   "cell_type": "code",
   "execution_count": 95,
   "metadata": {},
   "outputs": [],
   "source": [
    "# Given a list of words, return a dictionary of\n",
    "# word-frequency pairs.\n",
    "\n",
    "def wordListToFreqDict(wordlist):\n",
    "    wordfreq = [wordlist.count(p) for p in wordlist]\n",
    "    return dict(zip(wordlist,wordfreq))"
   ]
  },
  {
   "cell_type": "code",
   "execution_count": 42,
   "metadata": {},
   "outputs": [],
   "source": [
    "wordList = []\n",
    "for token in doc:\n",
    "    wordList.append(token.text)"
   ]
  },
  {
   "cell_type": "code",
   "execution_count": 97,
   "metadata": {},
   "outputs": [
    {
     "name": "stdout",
     "output_type": "stream",
     "text": [
      "29000\n"
     ]
    }
   ],
   "source": [
    "#wordlist = comments_string.split()\n",
    "print(len(wordList))\n",
    "comments_freq_dict = wordListToFreqDict(wordList)"
   ]
  },
  {
   "cell_type": "code",
   "execution_count": 45,
   "metadata": {},
   "outputs": [
    {
     "data": {
      "text/plain": [
       "4116"
      ]
     },
     "execution_count": 45,
     "metadata": {},
     "output_type": "execute_result"
    }
   ],
   "source": [
    "len(comments_freq_dict)"
   ]
  },
  {
   "cell_type": "code",
   "execution_count": 92,
   "metadata": {},
   "outputs": [],
   "source": [
    "wordsDataframe = pd.DataFrame(list(comments_freq_dict.items()),columns=['Word', 'Frequency'])"
   ]
  },
  {
   "cell_type": "code",
   "execution_count": 76,
   "metadata": {},
   "outputs": [],
   "source": [
    "#s = pd.Series(comments_freq_dict, name='Frequency')\n",
    "#s.index.name = 'word'\n",
    "#s.reset_index()"
   ]
  },
  {
   "cell_type": "code",
   "execution_count": 93,
   "metadata": {},
   "outputs": [
    {
     "data": {
      "text/plain": [
       "(4116, 2)"
      ]
     },
     "execution_count": 93,
     "metadata": {},
     "output_type": "execute_result"
    }
   ],
   "source": [
    "wordsDataframe.shape"
   ]
  },
  {
   "cell_type": "code",
   "execution_count": 126,
   "metadata": {},
   "outputs": [],
   "source": [
    "morethan15 = wordsDataframe[wordsDataframe['Frequency'] > 15].copy()"
   ]
  },
  {
   "cell_type": "code",
   "execution_count": 129,
   "metadata": {},
   "outputs": [],
   "source": [
    "morethan15[['Frequency','Word']].to_csv('wordfreq.csv')"
   ]
  },
  {
   "cell_type": "code",
   "execution_count": null,
   "metadata": {},
   "outputs": [],
   "source": []
  },
  {
   "cell_type": "code",
   "execution_count": null,
   "metadata": {},
   "outputs": [],
   "source": []
  },
  {
   "cell_type": "code",
   "execution_count": null,
   "metadata": {},
   "outputs": [],
   "source": []
  },
  {
   "cell_type": "code",
   "execution_count": null,
   "metadata": {},
   "outputs": [],
   "source": []
  },
  {
   "cell_type": "code",
   "execution_count": null,
   "metadata": {},
   "outputs": [],
   "source": []
  },
  {
   "cell_type": "code",
   "execution_count": 47,
   "metadata": {},
   "outputs": [
    {
     "data": {
      "text/plain": [
       "(4116, 1)"
      ]
     },
     "execution_count": 47,
     "metadata": {},
     "output_type": "execute_result"
    }
   ],
   "source": []
  },
  {
   "cell_type": "code",
   "execution_count": 21,
   "metadata": {},
   "outputs": [],
   "source": [
    "# Spacy tokenization\n",
    "doc = nlp(comments_string)"
   ]
  },
  {
   "cell_type": "code",
   "execution_count": 22,
   "metadata": {},
   "outputs": [],
   "source": [
    "#wordsDF = pd.DataFrame(wordsSeries)\n",
    "#doc"
   ]
  },
  {
   "cell_type": "code",
   "execution_count": 23,
   "metadata": {},
   "outputs": [
    {
     "data": {
      "text/plain": [
       "33"
      ]
     },
     "execution_count": 23,
     "metadata": {},
     "output_type": "execute_result"
    }
   ],
   "source": [
    "len(wordList)"
   ]
  },
  {
   "cell_type": "code",
   "execution_count": 24,
   "metadata": {},
   "outputs": [],
   "source": [
    "from spacy.lang.en.stop_words import STOP_WORDS"
   ]
  },
  {
   "cell_type": "code",
   "execution_count": 25,
   "metadata": {},
   "outputs": [
    {
     "name": "stdout",
     "output_type": "stream",
     "text": [
      "305\n"
     ]
    }
   ],
   "source": [
    "print(len(STOP_WORDS))"
   ]
  },
  {
   "cell_type": "code",
   "execution_count": null,
   "metadata": {},
   "outputs": [],
   "source": []
  },
  {
   "cell_type": "code",
   "execution_count": null,
   "metadata": {},
   "outputs": [],
   "source": []
  },
  {
   "cell_type": "code",
   "execution_count": null,
   "metadata": {},
   "outputs": [],
   "source": []
  },
  {
   "cell_type": "code",
   "execution_count": null,
   "metadata": {},
   "outputs": [],
   "source": []
  },
  {
   "cell_type": "code",
   "execution_count": null,
   "metadata": {},
   "outputs": [],
   "source": []
  },
  {
   "cell_type": "code",
   "execution_count": null,
   "metadata": {},
   "outputs": [],
   "source": []
  },
  {
   "cell_type": "code",
   "execution_count": null,
   "metadata": {},
   "outputs": [],
   "source": []
  },
  {
   "cell_type": "code",
   "execution_count": null,
   "metadata": {},
   "outputs": [],
   "source": []
  },
  {
   "cell_type": "code",
   "execution_count": null,
   "metadata": {},
   "outputs": [],
   "source": []
  },
  {
   "cell_type": "code",
   "execution_count": null,
   "metadata": {},
   "outputs": [],
   "source": []
  },
  {
   "cell_type": "code",
   "execution_count": null,
   "metadata": {},
   "outputs": [],
   "source": []
  },
  {
   "cell_type": "code",
   "execution_count": null,
   "metadata": {},
   "outputs": [],
   "source": []
  },
  {
   "cell_type": "code",
   "execution_count": null,
   "metadata": {},
   "outputs": [],
   "source": []
  },
  {
   "cell_type": "code",
   "execution_count": null,
   "metadata": {},
   "outputs": [],
   "source": []
  }
 ],
 "metadata": {
  "kernelspec": {
   "display_name": "Python 3",
   "language": "python",
   "name": "python3"
  },
  "language_info": {
   "codemirror_mode": {
    "name": "ipython",
    "version": 3
   },
   "file_extension": ".py",
   "mimetype": "text/x-python",
   "name": "python",
   "nbconvert_exporter": "python",
   "pygments_lexer": "ipython3",
   "version": "3.6.4"
  }
 },
 "nbformat": 4,
 "nbformat_minor": 2
}
